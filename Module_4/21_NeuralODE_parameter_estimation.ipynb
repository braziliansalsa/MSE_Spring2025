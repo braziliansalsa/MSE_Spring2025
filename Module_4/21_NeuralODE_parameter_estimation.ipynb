{
  "cells": [
    {
      "cell_type": "markdown",
      "metadata": {
        "id": "view-in-github",
        "colab_type": "text"
      },
      "source": [
        "<a href=\"https://colab.research.google.com/github/SergeiVKalinin/MSE_Spring2025/blob/main/Module_4/21_NeuralODE_parameter_estimation.ipynb\" target=\"_parent\"><img src=\"https://colab.research.google.com/assets/colab-badge.svg\" alt=\"Open In Colab\"/></a>"
      ]
    },
    {
      "cell_type": "markdown",
      "source": [
        "Neural differential equations\n",
        "- Blog:https://medium.com/towards-data-science/modeling-dynamical-systems-with-neural-ode-a-hands-on-guide-71c4cfdb84dc\n",
        "- Code: https://github.com/ShuaiGuo16/neuralODE"
      ],
      "metadata": {
        "id": "IIvQnwuEweQM"
      },
      "id": "IIvQnwuEweQM"
    },
    {
      "cell_type": "markdown",
      "id": "bfc10fe1",
      "metadata": {
        "id": "bfc10fe1"
      },
      "source": [
        "### Objective\n",
        "\n",
        "In this notebook, we implement the **Neural ODE** approach to identify the unknown parameter in the governing ODE of the population growth dynamical system."
      ]
    },
    {
      "cell_type": "code",
      "execution_count": 1,
      "id": "f233a83d",
      "metadata": {
        "id": "f233a83d"
      },
      "outputs": [],
      "source": [
        "# Import libraries\n",
        "import numpy as np\n",
        "import matplotlib.pyplot as plt\n",
        "import seaborn as sns\n",
        "sns.set_context(\"talk\", font_scale=0.7)\n",
        "\n",
        "import tensorflow as tf\n",
        "from tensorflow import keras\n",
        "tf.random.set_seed(42)\n",
        "\n",
        "from scipy.integrate import solve_ivp\n",
        "from sklearn.metrics import mean_absolute_percentage_error, mean_squared_error"
      ]
    },
    {
      "cell_type": "markdown",
      "id": "4e6db317",
      "metadata": {
        "id": "4e6db317"
      },
      "source": [
        "### 1. Target Dynamical System: Logistic Growth Model\n",
        "\n",
        "In this notebook, the specific dynamical system we are investigating is known as [logistic growth system](https://services.math.duke.edu/education/ccp/materials/diffeq/logistic/logi1.html):\n",
        "\n",
        "\\begin{equation}\n",
        "\\frac{dp(t)}{dt} = rp(t)(1-\\frac{p(t)}{k}) - min(h \\cdot p, H_{max}).\n",
        "\\end{equation}\n",
        "\n",
        "Here, $p(t)$ denotes the population size at time $t$, $r$ and $k$ represent the intrinsic growth rate of the population and carrying capacity of the environment, respectively. $min(h \\cdot p, H_{max})$ depicts the harvesting function with $h$ being the harvesting rate and $H_max$ being the maximum harvesting capacity."
      ]
    },
    {
      "cell_type": "code",
      "execution_count": 2,
      "id": "8458269c",
      "metadata": {
        "id": "8458269c"
      },
      "outputs": [],
      "source": [
        "def logistic_growth(t, p, r, k, h, H_max):\n",
        "    \"\"\"\n",
        "    ODE for logistic growth model.\n",
        "\n",
        "    Inputs:\n",
        "    -------\n",
        "    t: time\n",
        "    p: population size\n",
        "    r: intrinsic growth rate\n",
        "    k: carrying capacity\n",
        "    h: harvesting rate\n",
        "    H_max: maximum harvesting capacity\n",
        "\n",
        "    Output:\n",
        "    -------\n",
        "    dpdt: Change rate of population size.\n",
        "    \"\"\"\n",
        "\n",
        "    dpdt = r*p*(1-p/k) - min(h*p, H_max)\n",
        "\n",
        "    return dpdt"
      ]
    },
    {
      "cell_type": "markdown",
      "id": "4c6a0e7f",
      "metadata": {
        "id": "4c6a0e7f"
      },
      "source": [
        "### 2. Case Study: Parameter Estimation\n",
        "\n",
        "In this section, we tackle our target case study, i.e., parameter estimation.\n",
        "\n",
        "More specifically, we assume $r$ is unknown and we aim to infer its value from the observational data."
      ]
    },
    {
      "cell_type": "markdown",
      "id": "a0eba0f8",
      "metadata": {
        "id": "a0eba0f8"
      },
      "source": [
        "#### 2.1 Strategy\n",
        "\n",
        "To solve this problem, we can encapsulate the calculation of the popluation change rate (i.e., the right-hand side of the ODE) as a custom neural network layer and set the parameter $r$ as a trainable parameter of the layer. In this way, by training the neural network model (i.e., minimizing the loss between the model prediction and the observations), we are able to identify the correct value of $r$ that best fits the observational data. The benefit of this strategy is that it allows us to easily leverage the powerful gradient-based optimizers provided by the popular neural network frameworks (e.g., TensorFlow), and streamline the data organization for train/validation/test procedures."
      ]
    },
    {
      "cell_type": "markdown",
      "id": "02349348",
      "metadata": {
        "id": "02349348"
      },
      "source": [
        "#### 2.2 Data Generation\n",
        "\n",
        "To begin with, let's generate the observation data required for training the Neural ODE model. Toward that end, we employ the scipy ODE solver to simulate the corresponding dynamical system for a given timespan. This obtained time trace will serve as our training dataset.\n",
        "\n",
        "Note that here the ODE model with the true $r$ value is used only for creating the observation data. Later, we will assume that we do not know the $r$ value, and instead inferring it based on the observation data."
      ]
    },
    {
      "cell_type": "code",
      "execution_count": 3,
      "id": "b7c15a5e",
      "metadata": {
        "id": "b7c15a5e"
      },
      "outputs": [],
      "source": [
        "# Set parameters\n",
        "r, k, h, H_max = 0.1, 1000, 0.01, 5\n",
        "\n",
        "# Initial condition\n",
        "p_0 = 20\n",
        "\n",
        "# Simulation time span\n",
        "t_span = (0, 100)\n",
        "t_eval = np.linspace(t_span[0], t_span[1], 1000)\n",
        "\n",
        "# Solve ODE\n",
        "solution = solve_ivp(logistic_growth, t_span, [p_0],\n",
        "                     t_eval=t_eval, args=(r, k, h, H_max))"
      ]
    },
    {
      "cell_type": "markdown",
      "id": "adb5325d",
      "metadata": {
        "id": "adb5325d"
      },
      "source": [
        "Here, we visualize the general trend of the population evolution given the set ODE parameters."
      ]
    },
    {
      "cell_type": "code",
      "execution_count": 4,
      "id": "2c71b3be",
      "metadata": {
        "colab": {
          "base_uri": "https://localhost:8080/",
          "height": 484
        },
        "id": "2c71b3be",
        "outputId": "7411a1ee-0d04-47e8-a6d6-4496612c410b"
      },
      "outputs": [
        {
          "output_type": "display_data",
          "data": {
            "text/plain": [
              "<Figure size 640x480 with 1 Axes>"
            ],
            "image/png": "[encoded data removed]"
          },
          "metadata": {}
        }
      ],
      "source": [
        "plt.plot(solution.t, solution.y[0])\n",
        "plt.xlabel('Time (days)')\n",
        "plt.ylabel('Population Size')\n",
        "plt.title('Logistic Growth Model')\n",
        "plt.show()"
      ]
    },
    {
      "cell_type": "markdown",
      "id": "195afce9",
      "metadata": {
        "id": "195afce9"
      },
      "source": [
        "#### 2.3 Data organization"
      ]
    },
    {
      "cell_type": "code",
      "execution_count": 5,
      "id": "a8cfa671",
      "metadata": {
        "id": "a8cfa671"
      },
      "outputs": [],
      "source": [
        "def create_windows(p_series, t_series, seq_length, overlap_length):\n",
        "    \"\"\"\n",
        "    Create windows from the given time series data.\n",
        "    Overlapping is introduced to ensure context continuity.\n",
        "\n",
        "    Inputs:\n",
        "    -------\n",
        "    p_series: time series of observed population size\n",
        "    t_series: observed time\n",
        "    seq_length: intrinsic growth rate\n",
        "    overlap_length: carrying capacity\n",
        "\n",
        "    Output:\n",
        "    -------\n",
        "    p_windows: segmented window array of population size\n",
        "    t_windows: segmented window array of the time\n",
        "    \"\"\"\n",
        "\n",
        "    p_windows, t_windows = [], []\n",
        "\n",
        "    step_size = seq_length - overlap_length\n",
        "    beg_index = 0\n",
        "\n",
        "    while (end_idx := beg_index + seq_length) <= len(p_series):\n",
        "\n",
        "        # Construct P array\n",
        "        p_windows.append(p_series[beg_index:end_idx])\n",
        "\n",
        "        # Calculate time intervals\n",
        "        time_intervals = t_series[beg_index:end_idx] - t_series[beg_index]\n",
        "        t_windows.append(time_intervals)\n",
        "\n",
        "        beg_index += step_size\n",
        "\n",
        "    return np.array(p_windows), np.array(t_windows)"
      ]
    },
    {
      "cell_type": "code",
      "execution_count": 6,
      "id": "cc4762fc",
      "metadata": {
        "colab": {
          "base_uri": "https://localhost:8080/"
        },
        "id": "cc4762fc",
        "outputId": "f57630e2-d829-4d74-c1c7-31cfdf52388a"
      },
      "outputs": [
        {
          "output_type": "stream",
          "name": "stdout",
          "text": [
            "p_windows array dimension: (99, 20, 1)\n"
          ]
        }
      ],
      "source": [
        "# Compile dataset\n",
        "p_windows, t_windows = create_windows(solution.y[0][:, np.newaxis], t_eval, seq_length=20, overlap_length=10)\n",
        "print(f\"p_windows array dimension: {p_windows.shape}\")"
      ]
    },
    {
      "cell_type": "code",
      "execution_count": 7,
      "id": "97ce092d",
      "metadata": {
        "id": "97ce092d"
      },
      "outputs": [],
      "source": [
        "# Create TensorFlow Dataset\n",
        "p_windows = p_windows.astype('float32')\n",
        "t_windows = t_windows.astype('float32')\n",
        "\n",
        "batch_size = 32\n",
        "dataset = tf.data.Dataset.from_tensor_slices((p_windows, t_windows))"
      ]
    },
    {
      "cell_type": "markdown",
      "id": "e2645ece",
      "metadata": {
        "id": "e2645ece"
      },
      "source": [
        "We split the entire dataset into a train set and a validation set. This validation set can be used to monitor the learning progress of the model and facilitate learning rate scheduling.\n",
        "\n",
        "Toward that end, we can randomly shuffle the dataset first and then select the first 80% for training and the remianing 20% for validation. It is worth mentioning that this way of splitting the dataset actually does not violate the temporal order: the shuffling operation only acts on the first dimension of `p_windows`, i.e., it rearranges these windows as complete units. Since each window still preserves its original temporal sequence, the overall temporal consistency of the data is not violated."
      ]
    },
    {
      "cell_type": "code",
      "execution_count": 8,
      "id": "733f10b5",
      "metadata": {
        "id": "733f10b5"
      },
      "outputs": [],
      "source": [
        "# Train/validation split\n",
        "split_ratio = 0.8\n",
        "train_num = int(split_ratio*len(p_windows))\n",
        "\n",
        "# Split the dataset\n",
        "dataset = dataset.shuffle(buffer_size=100000)\n",
        "train_dataset = dataset.take(train_num)\n",
        "val_dataset = dataset.skip(train_num)\n",
        "\n",
        "# Batch the train & val datasets\n",
        "train_dataset = train_dataset.batch(batch_size).shuffle(buffer_size=100000)\n",
        "val_dataset = val_dataset.batch(batch_size)"
      ]
    },
    {
      "cell_type": "markdown",
      "id": "753e7208",
      "metadata": {
        "id": "753e7208"
      },
      "source": [
        "### 3. Neural ODE Solution"
      ]
    },
    {
      "cell_type": "markdown",
      "id": "22f21e94",
      "metadata": {
        "id": "22f21e94"
      },
      "source": [
        "#### 3.1 Define the custom layer"
      ]
    },
    {
      "cell_type": "code",
      "execution_count": 9,
      "id": "e0b7f173",
      "metadata": {
        "id": "e0b7f173"
      },
      "outputs": [],
      "source": [
        "class PopulationChangeLayer(tf.keras.layers.Layer):\n",
        "    def __init__(self, r_init, k, h, H_max, **kwargs):\n",
        "        \"\"\"\n",
        "        Constructor for the custom layer for computing the population change rate.\n",
        "\n",
        "        Inputs:\n",
        "        -------\n",
        "        r_init: initial value of intrinsic growth rate\n",
        "        k_init: initial value of carrying capacity\n",
        "        h: harvesting rate\n",
        "        H_max: maximum harvesting capacity\n",
        "        \"\"\"\n",
        "        super(PopulationChangeLayer, self).__init__(**kwargs)\n",
        "        self.r_init = r_init\n",
        "        self.k = k\n",
        "        self.h = h\n",
        "        self.H_max = H_max\n",
        "\n",
        "\n",
        "    def build(self, input_shape):\n",
        "        self.r = self.add_weight(name='r', shape=(),\n",
        "                                 initializer=tf.keras.initializers.Constant(self.r_init),\n",
        "                                 trainable=True)\n",
        "\n",
        "\n",
        "    def call(self, p, *args, **kwargs):\n",
        "        \"\"\"\n",
        "        This layer computes the population change rate based on the given ODE.\n",
        "\n",
        "        Inputs:\n",
        "        -------\n",
        "        inputs: population size\n",
        "        \"\"\"\n",
        "\n",
        "        # The governing ODE\n",
        "        dp_dt = self.r*p*(1-p/self.k) - tf.minimum(self.h*p, self.H_max)\n",
        "\n",
        "        return dp_dt"
      ]
    },
    {
      "cell_type": "code",
      "execution_count": 10,
      "id": "ee308c42",
      "metadata": {
        "id": "ee308c42"
      },
      "outputs": [],
      "source": [
        "def define_model(input_dim, init_r, k, init_lr, h, H_max):\n",
        "    \"\"\"\n",
        "    Construct the model for parameter estimation.\n",
        "\n",
        "    Inputs:\n",
        "    -------\n",
        "    input_dim: input dimension\n",
        "    init_r: initial value of intrinsic growth rate\n",
        "    k: carrying capacity\n",
        "    init_lr: initial learning rate\n",
        "    h: harvesting rate\n",
        "    H_max: maximum harvesting capacity\n",
        "\n",
        "    Outputs:\n",
        "    --------\n",
        "    model: the compiled neural network model\n",
        "    \"\"\"\n",
        "\n",
        "    # Input layer\n",
        "    input_layer = keras.layers.Input(shape=(input_dim,))\n",
        "\n",
        "    # Total population change rate\n",
        "    dp_dt = PopulationChangeLayer(init_r, k, h, H_max)(input_layer)\n",
        "\n",
        "    # Compile model\n",
        "    model = tf.keras.models.Model(inputs=input_layer, outputs=dp_dt)\n",
        "    optimizer=tf.keras.optimizers.Adam(learning_rate=init_lr)\n",
        "    model.compile(optimizer=optimizer)\n",
        "\n",
        "    return model"
      ]
    },
    {
      "cell_type": "markdown",
      "id": "a0bc59b9",
      "metadata": {
        "id": "a0bc59b9"
      },
      "source": [
        "#### 3.2 Define loss function\n",
        "\n",
        "Here, we define a custom loss function to facilitate model training. Specifically, we implement the logic of multi-step ahead prediction to ensure the model's accuracy and robustness in predicting."
      ]
    },
    {
      "cell_type": "code",
      "execution_count": 11,
      "id": "b887a23f",
      "metadata": {
        "id": "b887a23f"
      },
      "outputs": [],
      "source": [
        "@tf.function\n",
        "def train_step(p_batch, t_batch, ode_nn):\n",
        "    \"\"\"Calculate loss and its gradients with respect to network model parameters.\n",
        "\n",
        "    Inputs:\n",
        "    ----\n",
        "    p_batch: a batch of population evolution data, [batch_size, timesteps, feature_dim]\n",
        "    t_batch: a batch of time evolution data, [batch_size, timesteps, feature_dim]\n",
        "    ode_nn: neural ODE model\n",
        "\n",
        "    Outputs:\n",
        "    --------\n",
        "    ODE_loss: calculated ODE loss\n",
        "    gradients: gradients of the ODE loss with respect to network model parameters.\n",
        "    \"\"\"\n",
        "\n",
        "    with tf.GradientTape() as tape:\n",
        "        batch_size, seq_length, _ = p_batch.shape\n",
        "        loss = 0\n",
        "\n",
        "        # Batch processing each step of the time series\n",
        "        p = p_batch[:, 0]\n",
        "        for i in range(seq_length - 1):\n",
        "\n",
        "            # Calculate time step\n",
        "            delta_t = t_batch[:, i+1] - t_batch[:, i]\n",
        "\n",
        "            # Calculate the population change rate\n",
        "            dp_dt = ode_nn(p)\n",
        "\n",
        "            # Euler scheme\n",
        "            p = p + delta_t[:, tf.newaxis]*dp_dt\n",
        "\n",
        "            # Sum loss for the whole batch (for the current time step)\n",
        "            loss += tf.reduce_mean(tf.square(p - p_batch[:, i+1]))\n",
        "\n",
        "        # Average the loss over all time steps\n",
        "        loss /= (seq_length - 1)\n",
        "\n",
        "    # Compute gradients\n",
        "    gradients = tape.gradient(loss, ode_nn.trainable_variables)\n",
        "\n",
        "    return loss, gradients"
      ]
    },
    {
      "cell_type": "code",
      "execution_count": 12,
      "id": "7ae68e97",
      "metadata": {
        "id": "7ae68e97"
      },
      "outputs": [],
      "source": [
        "def val_step(p_batch, t_batch, ode_nn):\n",
        "    \"\"\"Calculate validation loss.\n",
        "\n",
        "    Inputs:\n",
        "    ----\n",
        "    p_batch: a batch of population evolution data, [batch_size, timesteps, feature_dim]\n",
        "    t_batch: a batch of time evolution data, [batch_size, timesteps, feature_dim]\n",
        "    ode_nn: neural ODE model\n",
        "\n",
        "    Outputs:\n",
        "    --------\n",
        "    loss: calculated ODE loss\n",
        "    \"\"\"\n",
        "    batch_size, seq_length, _ = p_batch.shape\n",
        "    loss = 0\n",
        "\n",
        "    # Batch processing each step of the time series\n",
        "    p = p_batch[:, 0]\n",
        "    for i in range(seq_length - 1):\n",
        "\n",
        "        # Calculate time step\n",
        "        delta_t = t_batch[:, i+1] - t_batch[:, i]\n",
        "\n",
        "        # Calculate the population change rate\n",
        "        dp_dt = ode_nn(p)\n",
        "\n",
        "        # Euler scheme\n",
        "        p = p + delta_t[:, tf.newaxis]*dp_dt\n",
        "\n",
        "        # Sum loss for the whole batch (for the current time step)\n",
        "        loss += tf.reduce_mean(tf.square(p - p_batch[:, i+1]))\n",
        "\n",
        "    # Average the loss over all time steps\n",
        "    loss /= (seq_length - 1)\n",
        "\n",
        "    return loss"
      ]
    },
    {
      "cell_type": "markdown",
      "id": "2aa236ea",
      "metadata": {
        "id": "2aa236ea"
      },
      "source": [
        "#### 3.3 Training logic\n",
        "\n"
      ]
    },
    {
      "cell_type": "code",
      "execution_count": 13,
      "id": "c1fc3706",
      "metadata": {
        "scrolled": true,
        "colab": {
          "base_uri": "https://localhost:8080/"
        },
        "id": "c1fc3706",
        "outputId": "88f78bfd-7bd7-44a7-d7a2-563d9da6f6a5"
      },
      "outputs": [
        {
          "output_type": "stream",
          "name": "stdout",
          "text": [
            "Epoch 1:\n",
            "Train Loss: 1.175e+03, Val Loss: 1.015e+03\n",
            "r: 0.294\n",
            "Epoch 2:\n",
            "Train Loss: 1.077e+03, Val Loss: 1.240e+03\n",
            "r: 0.288\n",
            "Epoch 3:\n",
            "Train Loss: 9.560e+02, Val Loss: 9.473e+02\n",
            "r: 0.282\n",
            "Epoch 4:\n",
            "Train Loss: 9.275e+02, Val Loss: 8.040e+02\n",
            "r: 0.277\n",
            "Epoch 5:\n",
            "Train Loss: 8.623e+02, Val Loss: 8.484e+02\n",
            "r: 0.271\n",
            "Epoch 6:\n",
            "Train Loss: 8.463e+02, Val Loss: 6.627e+02\n",
            "r: 0.265\n",
            "Epoch 7:\n",
            "Train Loss: 6.873e+02, Val Loss: 6.310e+02\n",
            "r: 0.259\n",
            "Epoch 8:\n",
            "Train Loss: 6.631e+02, Val Loss: 6.353e+02\n",
            "r: 0.254\n",
            "Epoch 9:\n",
            "Train Loss: 6.721e+02, Val Loss: 4.656e+02\n",
            "r: 0.248\n",
            "Epoch 10:\n",
            "Train Loss: 5.966e+02, Val Loss: 7.005e+02\n",
            "r: 0.243\n",
            "Epoch 11:\n",
            "Train Loss: 5.859e+02, Val Loss: 6.092e+02\n",
            "r: 0.238\n",
            "Epoch 12:\n",
            "Train Loss: 5.200e+02, Val Loss: 4.714e+02\n",
            "r: 0.232\n",
            "Epoch 13:\n",
            "Train Loss: 4.659e+02, Val Loss: 3.348e+02\n",
            "r: 0.227\n",
            "Epoch 14:\n",
            "Train Loss: 4.306e+02, Val Loss: 4.192e+02\n",
            "r: 0.222\n",
            "Epoch 15:\n",
            "Train Loss: 4.154e+02, Val Loss: 4.019e+02\n",
            "r: 0.217\n",
            "Epoch 16:\n",
            "Train Loss: 4.047e+02, Val Loss: 3.037e+02\n",
            "r: 0.212\n",
            "Epoch 17:\n",
            "Train Loss: 3.440e+02, Val Loss: 3.200e+02\n",
            "r: 0.207\n",
            "Epoch 18:\n",
            "Train Loss: 3.133e+02, Val Loss: 2.775e+02\n",
            "r: 0.203\n",
            "Epoch 19:\n",
            "Train Loss: 2.835e+02, Val Loss: 2.117e+02\n",
            "r: 0.198\n",
            "Epoch 20:\n",
            "Train Loss: 2.547e+02, Val Loss: 2.617e+02\n",
            "r: 0.194\n",
            "Epoch 21:\n",
            "Train Loss: 2.455e+02, Val Loss: 3.535e+02\n",
            "r: 0.19\n",
            "Epoch 22:\n",
            "Train Loss: 2.124e+02, Val Loss: 1.658e+02\n",
            "r: 0.185\n",
            "Epoch 23:\n",
            "Train Loss: 2.018e+02, Val Loss: 2.212e+02\n",
            "r: 0.181\n",
            "Epoch 24:\n",
            "Train Loss: 1.824e+02, Val Loss: 1.691e+02\n",
            "r: 0.177\n",
            "Epoch 25:\n",
            "Train Loss: 1.412e+02, Val Loss: 1.880e+02\n",
            "r: 0.174\n",
            "Epoch 26:\n",
            "Train Loss: 1.347e+02, Val Loss: 1.399e+02\n",
            "r: 0.17\n",
            "Epoch 27:\n",
            "Train Loss: 1.252e+02, Val Loss: 1.297e+02\n",
            "r: 0.167\n",
            "Epoch 28:\n",
            "Train Loss: 1.182e+02, Val Loss: 8.609e+01\n",
            "r: 0.163\n",
            "Epoch 29:\n",
            "Train Loss: 1.078e+02, Val Loss: 9.847e+01\n",
            "r: 0.16\n",
            "Epoch 30:\n",
            "Train Loss: 1.079e+02, Val Loss: 1.098e+02\n",
            "r: 0.157\n",
            "Epoch 31:\n",
            "Train Loss: 8.554e+01, Val Loss: 8.358e+01\n",
            "r: 0.154\n",
            "Epoch 32:\n",
            "Train Loss: 8.667e+01, Val Loss: 8.505e+01\n",
            "r: 0.151\n",
            "Epoch 33:\n",
            "Train Loss: 7.406e+01, Val Loss: 4.535e+01\n",
            "r: 0.148\n",
            "Epoch 34:\n",
            "Train Loss: 6.052e+01, Val Loss: 4.643e+01\n",
            "r: 0.145\n",
            "Epoch 35:\n",
            "Train Loss: 5.107e+01, Val Loss: 5.822e+01\n",
            "r: 0.143\n",
            "Epoch 36:\n",
            "Train Loss: 4.914e+01, Val Loss: 4.510e+01\n",
            "r: 0.14\n",
            "Epoch 37:\n",
            "Train Loss: 4.409e+01, Val Loss: 5.412e+01\n",
            "r: 0.138\n",
            "Epoch 38:\n",
            "Train Loss: 3.691e+01, Val Loss: 4.351e+01\n",
            "r: 0.135\n",
            "Epoch 39:\n",
            "Train Loss: 3.335e+01, Val Loss: 3.043e+01\n",
            "r: 0.133\n",
            "Epoch 40:\n",
            "Train Loss: 2.933e+01, Val Loss: 3.123e+01\n",
            "r: 0.131\n",
            "Epoch 41:\n",
            "Train Loss: 2.906e+01, Val Loss: 2.844e+01\n",
            "r: 0.129\n",
            "Epoch 42:\n",
            "Train Loss: 2.137e+01, Val Loss: 2.279e+01\n",
            "r: 0.127\n",
            "Epoch 43:\n",
            "Train Loss: 1.962e+01, Val Loss: 1.974e+01\n",
            "r: 0.125\n",
            "Epoch 44:\n",
            "Train Loss: 1.805e+01, Val Loss: 1.524e+01\n",
            "r: 0.124\n",
            "Epoch 45:\n",
            "Train Loss: 1.551e+01, Val Loss: 1.371e+01\n",
            "r: 0.122\n",
            "Epoch 46:\n",
            "Train Loss: 1.292e+01, Val Loss: 1.426e+01\n",
            "r: 0.12\n",
            "Epoch 47:\n",
            "Train Loss: 1.020e+01, Val Loss: 5.012e+00\n",
            "r: 0.119\n",
            "Epoch 48:\n",
            "Train Loss: 9.724e+00, Val Loss: 6.083e+00\n",
            "r: 0.118\n",
            "Epoch 49:\n",
            "Train Loss: 7.704e+00, Val Loss: 6.227e+00\n",
            "r: 0.116\n",
            "Epoch 50:\n",
            "Train Loss: 6.984e+00, Val Loss: 4.481e+00\n",
            "r: 0.115\n",
            "Epoch 51:\n",
            "Train Loss: 6.520e+00, Val Loss: 3.507e+00\n",
            "r: 0.114\n",
            "Epoch 52:\n",
            "Train Loss: 4.658e+00, Val Loss: 5.491e+00\n",
            "r: 0.113\n",
            "Epoch 53:\n",
            "Train Loss: 4.020e+00, Val Loss: 4.973e+00\n",
            "r: 0.112\n",
            "Epoch 54:\n",
            "Train Loss: 3.820e+00, Val Loss: 2.853e+00\n",
            "r: 0.111\n",
            "Epoch 55:\n",
            "Train Loss: 3.401e+00, Val Loss: 3.224e+00\n",
            "r: 0.11\n",
            "Epoch 56:\n",
            "Train Loss: 2.832e+00, Val Loss: 2.315e+00\n",
            "r: 0.109\n",
            "Epoch 57:\n",
            "Train Loss: 2.418e+00, Val Loss: 1.643e+00\n",
            "r: 0.109\n",
            "Epoch 58:\n",
            "Train Loss: 2.157e+00, Val Loss: 2.175e+00\n",
            "r: 0.108\n",
            "Epoch 59:\n",
            "Train Loss: 1.630e+00, Val Loss: 1.611e+00\n",
            "r: 0.107\n",
            "Epoch 60:\n",
            "Train Loss: 1.357e+00, Val Loss: 1.293e+00\n",
            "r: 0.107\n",
            "Epoch 61:\n",
            "Train Loss: 1.191e+00, Val Loss: 8.050e-01\n",
            "r: 0.106\n",
            "Epoch 62:\n",
            "Train Loss: 9.876e-01, Val Loss: 7.145e-01\n",
            "r: 0.106\n",
            "Epoch 63:\n",
            "Train Loss: 7.687e-01, Val Loss: 8.522e-01\n",
            "r: 0.105\n",
            "Epoch 64:\n",
            "Train Loss: 6.358e-01, Val Loss: 7.679e-01\n",
            "r: 0.105\n",
            "Epoch 65:\n",
            "Train Loss: 5.954e-01, Val Loss: 4.947e-01\n",
            "r: 0.104\n",
            "Epoch 66:\n",
            "Train Loss: 4.847e-01, Val Loss: 3.672e-01\n",
            "r: 0.104\n",
            "Epoch 67:\n",
            "Train Loss: 4.318e-01, Val Loss: 3.251e-01\n",
            "r: 0.104\n",
            "Epoch 68:\n",
            "Train Loss: 3.371e-01, Val Loss: 2.022e-01\n",
            "r: 0.103\n",
            "Epoch 69:\n",
            "Train Loss: 2.541e-01, Val Loss: 2.995e-01\n",
            "r: 0.103\n",
            "Epoch 70:\n",
            "Train Loss: 2.027e-01, Val Loss: 1.951e-01\n",
            "r: 0.103\n",
            "Epoch 71:\n",
            "Train Loss: 1.745e-01, Val Loss: 1.116e-01\n",
            "r: 0.102\n",
            "Epoch 72:\n",
            "Train Loss: 1.397e-01, Val Loss: 8.881e-02\n",
            "r: 0.102\n",
            "Epoch 73:\n",
            "Train Loss: 1.052e-01, Val Loss: 1.461e-01\n",
            "r: 0.102\n",
            "Epoch 74:\n",
            "Train Loss: 9.569e-02, Val Loss: 1.048e-01\n",
            "r: 0.102\n",
            "Epoch 75:\n",
            "Train Loss: 6.896e-02, Val Loss: 8.272e-02\n",
            "r: 0.102\n",
            "Epoch 76:\n",
            "Train Loss: 5.844e-02, Val Loss: 4.393e-02\n",
            "r: 0.101\n",
            "Epoch 77:\n",
            "Train Loss: 4.585e-02, Val Loss: 4.530e-02\n",
            "r: 0.101\n",
            "Epoch 78:\n",
            "Train Loss: 3.939e-02, Val Loss: 4.351e-02\n",
            "r: 0.101\n",
            "Epoch 79:\n",
            "Train Loss: 3.350e-02, Val Loss: 1.638e-02\n",
            "r: 0.101\n",
            "Epoch 80:\n",
            "Train Loss: 2.472e-02, Val Loss: 2.879e-02\n",
            "r: 0.101\n",
            "Epoch 81:\n",
            "Train Loss: 1.934e-02, Val Loss: 7.043e-03\n",
            "r: 0.101\n",
            "Epoch 82:\n",
            "Train Loss: 1.707e-02, Val Loss: 1.011e-02\n",
            "r: 0.101\n",
            "Epoch 83:\n",
            "Train Loss: 1.344e-02, Val Loss: 1.129e-02\n",
            "r: 0.101\n",
            "Epoch 84:\n",
            "Train Loss: 1.174e-02, Val Loss: 9.992e-03\n",
            "r: 0.101\n",
            "Epoch 85:\n",
            "Train Loss: 1.000e-02, Val Loss: 9.793e-03\n",
            "r: 0.101\n",
            "Epoch 86:\n",
            "Train Loss: 6.508e-03, Val Loss: 8.539e-03\n",
            "r: 0.1\n",
            "Epoch 87:\n",
            "Train Loss: 6.056e-03, Val Loss: 2.313e-03\n",
            "r: 0.1\n",
            "Epoch 88:\n",
            "Train Loss: 5.739e-03, Val Loss: 5.922e-03\n",
            "r: 0.1\n",
            "Epoch 89:\n",
            "Train Loss: 3.901e-03, Val Loss: 1.978e-03\n",
            "r: 0.1\n",
            "Epoch 90:\n",
            "Train Loss: 4.594e-03, Val Loss: 4.215e-03\n",
            "r: 0.1\n",
            "Epoch 91:\n",
            "Train Loss: 3.569e-03, Val Loss: 4.761e-03\n",
            "r: 0.1\n",
            "Epoch 92:\n",
            "Train Loss: 2.948e-03, Val Loss: 3.689e-03\n",
            "r: 0.1\n",
            "Epoch 93:\n",
            "Train Loss: 3.046e-03, Val Loss: 2.525e-03\n",
            "r: 0.1\n",
            "Epoch 94:\n",
            "Train Loss: 2.506e-03, Val Loss: 2.126e-03\n",
            "r: 0.1\n",
            "Epoch 95:\n",
            "Train Loss: 2.358e-03, Val Loss: 1.978e-03\n",
            "r: 0.1\n",
            "Epoch 96:\n",
            "Train Loss: 2.538e-03, Val Loss: 2.178e-03\n",
            "r: 0.1\n",
            "Epoch 97:\n",
            "Train Loss: 2.688e-03, Val Loss: 1.730e-03\n",
            "r: 0.1\n",
            "Epoch 98:\n",
            "Train Loss: 2.361e-03, Val Loss: 2.004e-03\n",
            "r: 0.1\n",
            "Epoch 99:\n",
            "Train Loss: 1.900e-03, Val Loss: 1.393e-03\n",
            "r: 0.1\n",
            "Epoch 100:\n",
            "Train Loss: 1.832e-03, Val Loss: 5.810e-04\n",
            "r: 0.1\n"
          ]
        }
      ],
      "source": [
        "# Setup NN hyperparameters\n",
        "input_dim = 1\n",
        "\n",
        "# Instantiate NN\n",
        "init_r = 0.3\n",
        "ode_nn = define_model(input_dim, init_r, k=k, init_lr=2e-3, h=h, H_max=H_max)\n",
        "\n",
        "# Training Loop\n",
        "num_epochs = 100\n",
        "train_loss_hist, val_loss_hist, r_list = [], [], []\n",
        "\n",
        "with tf.device(\"CPU:0\"):\n",
        "\n",
        "    # Configure learning rate scheduler\n",
        "    ode_nn_callbacks = tf.keras.callbacks.CallbackList(\n",
        "                      [keras.callbacks.ReduceLROnPlateau(factor=0.5, patience=50)],\n",
        "                        add_history=False, model=ode_nn)\n",
        "\n",
        "    for epoch in range(num_epochs):\n",
        "\n",
        "        # Initialize epoch-wise losses\n",
        "        train_total_loss, val_total_loss = 0, 0\n",
        "\n",
        "        # Training\n",
        "        for p_batch, t_batch in train_dataset:\n",
        "\n",
        "            # Calculate loss & gradients\n",
        "            train_loss, gradients = train_step(p_batch, t_batch, ode_nn)\n",
        "\n",
        "            # Update parameters\n",
        "            ode_nn.optimizer.apply_gradients(zip(gradients, ode_nn.trainable_variables))\n",
        "\n",
        "            # Accumulate loss\n",
        "            train_total_loss += train_loss\n",
        "\n",
        "        # Normalize loss\n",
        "        train_total_loss /= len(train_dataset)\n",
        "\n",
        "        # Validation loop\n",
        "        for p_batch, t_batch in val_dataset:\n",
        "            val_loss = val_step(p_batch, t_batch, ode_nn)\n",
        "            val_total_loss += val_loss\n",
        "\n",
        "        # Normalize validation loss\n",
        "        val_total_loss /= len(val_dataset)\n",
        "\n",
        "        # Callbacks\n",
        "        ode_nn_callbacks.on_epoch_end(epoch, logs={'val_loss': val_total_loss})\n",
        "\n",
        "        # Logging\n",
        "        print(f\"Epoch {epoch+1}:\")\n",
        "        print(f\"Train Loss: {train_total_loss.numpy():.3e}, Val Loss: {val_total_loss.numpy():.3e}\")\n",
        "        print(f\"r: {ode_nn.layers[-1].r.numpy():.3}\")\n",
        "\n",
        "        train_loss_hist.append(train_total_loss)\n",
        "        val_loss_hist.append(val_total_loss)\n",
        "        r_list.append(ode_nn.layers[-1].r.numpy())\n",
        "\n",
        "        # Reshuffle train dataset\n",
        "        dataset = dataset.shuffle(buffer_size=100000)\n",
        "        train_dataset = dataset.take(train_num).shuffle(buffer_size=100000).batch(batch_size)\n",
        "        val_dataset = dataset.skip(train_num).batch(batch_size)"
      ]
    },
    {
      "cell_type": "code",
      "execution_count": 14,
      "id": "e2864a07",
      "metadata": {
        "colab": {
          "base_uri": "https://localhost:8080/",
          "height": 476
        },
        "id": "e2864a07",
        "outputId": "1f08bf14-a523-4c44-c7da-722fa7fa469b"
      },
      "outputs": [
        {
          "output_type": "display_data",
          "data": {
            "text/plain": [
              "<Figure size 1200x500 with 2 Axes>"
            ],
            "image/png": "[encoded data removed]"
          },
          "metadata": {}
        }
      ],
      "source": [
        "# History\n",
        "fig, ax = plt.subplots(1, 2, figsize=(12, 5))\n",
        "ax[0].plot(range(num_epochs), train_loss_hist)\n",
        "ax[1].plot(range(num_epochs), val_loss_hist)\n",
        "ax[0].set_title('Train Loss')\n",
        "ax[1].set_title('Val Loss')\n",
        "for axs in ax:\n",
        "    axs.set_yscale('log')"
      ]
    },
    {
      "cell_type": "code",
      "execution_count": 15,
      "id": "b245fda3",
      "metadata": {
        "colab": {
          "base_uri": "https://localhost:8080/",
          "height": 494
        },
        "id": "b245fda3",
        "outputId": "170abfa3-1ad3-444b-811b-1bf57ff528d0"
      },
      "outputs": [
        {
          "output_type": "execute_result",
          "data": {
            "text/plain": [
              "Text(0, 0.5, 'Estimated r value')"
            ]
          },
          "metadata": {},
          "execution_count": 15
        },
        {
          "output_type": "display_data",
          "data": {
            "text/plain": [
              "<Figure size 600x500 with 1 Axes>"
            ],
            "image/png": "[encoded data removed]"
          },
          "metadata": {}
        }
      ],
      "source": [
        "# Parameter estimation\n",
        "fig, ax = plt.subplots(figsize=(6, 5))\n",
        "ax.plot(range(num_epochs), r_list)\n",
        "ax.plot(range(num_epochs), 0.1*np.ones(len(r_list)), 'r--')\n",
        "ax.set_xlabel('Epochs')\n",
        "ax.set_ylabel('Estimated r value')"
      ]
    },
    {
      "cell_type": "markdown",
      "id": "40d2d1d7",
      "metadata": {
        "id": "40d2d1d7"
      },
      "source": [
        "\\begin{equation}\n",
        "y_{i+2} = y_{i+1} + \\Delta t \\cdot f(y_{i+1})\n",
        "\\end{equation}\n",
        "\n",
        "\\begin{equation}\n",
        "\\frac{dp}{dt} = \\boldsymbol{r}p(1-\\frac{p}{k}) - min(h \\cdot p, H_{max}).\n",
        "\\end{equation}"
      ]
    },
    {
      "cell_type": "code",
      "execution_count": 15,
      "id": "5ae257b4",
      "metadata": {
        "id": "5ae257b4"
      },
      "outputs": [],
      "source": []
    }
  ],
  "metadata": {
    "kernelspec": {
      "display_name": "Python 3 (ipykernel)",
      "language": "python",
      "name": "python3"
    },
    "language_info": {
      "codemirror_mode": {
        "name": "ipython",
        "version": 3
      },
      "file_extension": ".py",
      "mimetype": "text/x-python",
      "name": "python",
      "nbconvert_exporter": "python",
      "pygments_lexer": "ipython3",
      "version": "3.8.12"
    },
    "colab": {
      "provenance": [],
      "include_colab_link": true
    }
  },
  "nbformat": 4,
  "nbformat_minor": 5
}