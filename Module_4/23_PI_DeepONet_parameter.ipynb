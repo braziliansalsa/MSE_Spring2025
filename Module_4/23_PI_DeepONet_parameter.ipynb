{
  "cells": [
    {
      "cell_type": "markdown",
      "metadata": {
        "id": "view-in-github",
        "colab_type": "text"
      },
      "source": [
        "<a href=\"https://colab.research.google.com/github/SergeiVKalinin/MSE_Spring2025/blob/main/Module_4/23_PI_DeepONet_parameter.ipynb\" target=\"_parent\"><img src=\"https://colab.research.google.com/assets/colab-badge.svg\" alt=\"Open In Colab\"/></a>"
      ]
    },
    {
      "cell_type": "markdown",
      "source": [
        "Physics Informed Deep Neural Operators\n",
        "- Based on: https://towardsdatascience.com/operator-learning-via-physics-informed-deeponet-lets-implement-it-from-scratch-6659f3179887/\n",
        "- Code at: https://github.com/ShuaiGuo16/PI-DeepONet/tree/main"
      ],
      "metadata": {
        "id": "_onQ3e9nnwjB"
      },
      "id": "_onQ3e9nnwjB"
    },
    {
      "cell_type": "markdown",
      "id": "19803dd4",
      "metadata": {
        "id": "19803dd4"
      },
      "source": [
        "### Objective\n",
        "\n",
        "In this notebook, we develop a PI-DeepONet model that can tackle inverse problems. Specifically, we investigate the following example equation:\n",
        "\n",
        "\\begin{equation}\n",
        "\\frac{ds(t)}{dt} = a \\cdot u(t)+b, \\; t \\in [0, 1]\n",
        "\\end{equation}\n",
        "\n",
        "with an initial condition $s(0)=0$, and our goal is to estimate unknown parameters a and b given the observed input and output functions."
      ]
    },
    {
      "cell_type": "markdown",
      "id": "7d3fb325",
      "metadata": {
        "id": "7d3fb325"
      },
      "source": [
        "### 0. Import libraries"
      ]
    },
    {
      "cell_type": "code",
      "source": [
        "!pip install keras==2.14.0 tensorflow==2.14.0"
      ],
      "metadata": {
        "colab": {
          "base_uri": "https://localhost:8080/",
          "height": 1000
        },
        "id": "vJ09JP2ZO1W2",
        "outputId": "f51a2e15-8ff4-4158-8a0d-b8c5533ceb71"
      },
      "id": "vJ09JP2ZO1W2",
      "execution_count": 16,
      "outputs": [
        {
          "output_type": "stream",
          "name": "stdout",
          "text": [
            "Collecting keras==2.14.0\n",
            "  Downloading keras-2.14.0-py3-none-any.whl.metadata (2.4 kB)\n",
            "Collecting tensorflow==2.14.0\n",
            "  Downloading tensorflow-2.14.0-cp311-cp311-manylinux_2_17_x86_64.manylinux2014_x86_64.whl.metadata (4.1 kB)\n",
            "Requirement already satisfied: absl-py>=1.0.0 in /usr/local/lib/python3.11/dist-packages (from tensorflow==2.14.0) (1.4.0)\n",
            "Requirement already satisfied: astunparse>=1.6.0 in /usr/local/lib/python3.11/dist-packages (from tensorflow==2.14.0) (1.6.3)\n",
            "Requirement already satisfied: flatbuffers>=23.5.26 in /usr/local/lib/python3.11/dist-packages (from tensorflow==2.14.0) (25.2.10)\n",
            "Requirement already satisfied: gast!=0.5.0,!=0.5.1,!=0.5.2,>=0.2.1 in /usr/local/lib/python3.11/dist-packages (from tensorflow==2.14.0) (0.6.0)\n",
            "Requirement already satisfied: google-pasta>=0.1.1 in /usr/local/lib/python3.11/dist-packages (from tensorflow==2.14.0) (0.2.0)\n",
            "Requirement already satisfied: h5py>=2.9.0 in /usr/local/lib/python3.11/dist-packages (from tensorflow==2.14.0) (3.12.1)\n",
            "Requirement already satisfied: libclang>=13.0.0 in /usr/local/lib/python3.11/dist-packages (from tensorflow==2.14.0) (18.1.1)\n",
            "Collecting ml-dtypes==0.2.0 (from tensorflow==2.14.0)\n",
            "  Downloading ml_dtypes-0.2.0-cp311-cp311-manylinux_2_17_x86_64.manylinux2014_x86_64.whl.metadata (20 kB)\n",
            "Requirement already satisfied: numpy>=1.23.5 in /usr/local/lib/python3.11/dist-packages (from tensorflow==2.14.0) (1.26.4)\n",
            "Requirement already satisfied: opt-einsum>=2.3.2 in /usr/local/lib/python3.11/dist-packages (from tensorflow==2.14.0) (3.4.0)\n",
            "Requirement already satisfied: packaging in /usr/local/lib/python3.11/dist-packages (from tensorflow==2.14.0) (24.2)\n",
            "Requirement already satisfied: protobuf!=4.21.0,!=4.21.1,!=4.21.2,!=4.21.3,!=4.21.4,!=4.21.5,<5.0.0dev,>=3.20.3 in /usr/local/lib/python3.11/dist-packages (from tensorflow==2.14.0) (4.25.6)\n",
            "Requirement already satisfied: setuptools in /usr/local/lib/python3.11/dist-packages (from tensorflow==2.14.0) (75.1.0)\n",
            "Requirement already satisfied: six>=1.12.0 in /usr/local/lib/python3.11/dist-packages (from tensorflow==2.14.0) (1.17.0)\n",
            "Requirement already satisfied: termcolor>=1.1.0 in /usr/local/lib/python3.11/dist-packages (from tensorflow==2.14.0) (2.5.0)\n",
            "Requirement already satisfied: typing-extensions>=3.6.6 in /usr/local/lib/python3.11/dist-packages (from tensorflow==2.14.0) (4.12.2)\n",
            "Collecting wrapt<1.15,>=1.11.0 (from tensorflow==2.14.0)\n",
            "  Downloading wrapt-1.14.1-cp311-cp311-manylinux_2_5_x86_64.manylinux1_x86_64.manylinux_2_17_x86_64.manylinux2014_x86_64.whl.metadata (6.7 kB)\n",
            "Requirement already satisfied: tensorflow-io-gcs-filesystem>=0.23.1 in /usr/local/lib/python3.11/dist-packages (from tensorflow==2.14.0) (0.37.1)\n",
            "Requirement already satisfied: grpcio<2.0,>=1.24.3 in /usr/local/lib/python3.11/dist-packages (from tensorflow==2.14.0) (1.70.0)\n",
            "Collecting tensorboard<2.15,>=2.14 (from tensorflow==2.14.0)\n",
            "  Downloading tensorboard-2.14.1-py3-none-any.whl.metadata (1.7 kB)\n",
            "Collecting tensorflow-estimator<2.15,>=2.14.0 (from tensorflow==2.14.0)\n",
            "  Downloading tensorflow_estimator-2.14.0-py2.py3-none-any.whl.metadata (1.3 kB)\n",
            "Requirement already satisfied: wheel<1.0,>=0.23.0 in /usr/local/lib/python3.11/dist-packages (from astunparse>=1.6.0->tensorflow==2.14.0) (0.45.1)\n",
            "Requirement already satisfied: google-auth<3,>=1.6.3 in /usr/local/lib/python3.11/dist-packages (from tensorboard<2.15,>=2.14->tensorflow==2.14.0) (2.38.0)\n",
            "Collecting google-auth-oauthlib<1.1,>=0.5 (from tensorboard<2.15,>=2.14->tensorflow==2.14.0)\n",
            "  Downloading google_auth_oauthlib-1.0.0-py2.py3-none-any.whl.metadata (2.7 kB)\n",
            "Requirement already satisfied: markdown>=2.6.8 in /usr/local/lib/python3.11/dist-packages (from tensorboard<2.15,>=2.14->tensorflow==2.14.0) (3.7)\n",
            "Requirement already satisfied: requests<3,>=2.21.0 in /usr/local/lib/python3.11/dist-packages (from tensorboard<2.15,>=2.14->tensorflow==2.14.0) (2.32.3)\n",
            "Requirement already satisfied: tensorboard-data-server<0.8.0,>=0.7.0 in /usr/local/lib/python3.11/dist-packages (from tensorboard<2.15,>=2.14->tensorflow==2.14.0) (0.7.2)\n",
            "Requirement already satisfied: werkzeug>=1.0.1 in /usr/local/lib/python3.11/dist-packages (from tensorboard<2.15,>=2.14->tensorflow==2.14.0) (3.1.3)\n",
            "Requirement already satisfied: cachetools<6.0,>=2.0.0 in /usr/local/lib/python3.11/dist-packages (from google-auth<3,>=1.6.3->tensorboard<2.15,>=2.14->tensorflow==2.14.0) (5.5.2)\n",
            "Requirement already satisfied: pyasn1-modules>=0.2.1 in /usr/local/lib/python3.11/dist-packages (from google-auth<3,>=1.6.3->tensorboard<2.15,>=2.14->tensorflow==2.14.0) (0.4.1)\n",
            "Requirement already satisfied: rsa<5,>=3.1.4 in /usr/local/lib/python3.11/dist-packages (from google-auth<3,>=1.6.3->tensorboard<2.15,>=2.14->tensorflow==2.14.0) (4.9)\n",
            "Requirement already satisfied: requests-oauthlib>=0.7.0 in /usr/local/lib/python3.11/dist-packages (from google-auth-oauthlib<1.1,>=0.5->tensorboard<2.15,>=2.14->tensorflow==2.14.0) (2.0.0)\n",
            "Requirement already satisfied: charset-normalizer<4,>=2 in /usr/local/lib/python3.11/dist-packages (from requests<3,>=2.21.0->tensorboard<2.15,>=2.14->tensorflow==2.14.0) (3.4.1)\n",
            "Requirement already satisfied: idna<4,>=2.5 in /usr/local/lib/python3.11/dist-packages (from requests<3,>=2.21.0->tensorboard<2.15,>=2.14->tensorflow==2.14.0) (3.10)\n",
            "Requirement already satisfied: urllib3<3,>=1.21.1 in /usr/local/lib/python3.11/dist-packages (from requests<3,>=2.21.0->tensorboard<2.15,>=2.14->tensorflow==2.14.0) (2.3.0)\n",
            "Requirement already satisfied: certifi>=2017.4.17 in /usr/local/lib/python3.11/dist-packages (from requests<3,>=2.21.0->tensorboard<2.15,>=2.14->tensorflow==2.14.0) (2025.1.31)\n",
            "Requirement already satisfied: MarkupSafe>=2.1.1 in /usr/local/lib/python3.11/dist-packages (from werkzeug>=1.0.1->tensorboard<2.15,>=2.14->tensorflow==2.14.0) (3.0.2)\n",
            "Requirement already satisfied: pyasn1<0.7.0,>=0.4.6 in /usr/local/lib/python3.11/dist-packages (from pyasn1-modules>=0.2.1->google-auth<3,>=1.6.3->tensorboard<2.15,>=2.14->tensorflow==2.14.0) (0.6.1)\n",
            "Requirement already satisfied: oauthlib>=3.0.0 in /usr/local/lib/python3.11/dist-packages (from requests-oauthlib>=0.7.0->google-auth-oauthlib<1.1,>=0.5->tensorboard<2.15,>=2.14->tensorflow==2.14.0) (3.2.2)\n",
            "Downloading keras-2.14.0-py3-none-any.whl (1.7 MB)\n",
            "\u001b[2K   \u001b[90m━━━━━━━━━━━━━━━━━━━━━━━━━━━━━━━━━━━━━━━━\u001b[0m \u001b[32m1.7/1.7 MB\u001b[0m \u001b[31m21.3 MB/s\u001b[0m eta \u001b[36m0:00:00\u001b[0m\n",
            "\u001b[?25hDownloading tensorflow-2.14.0-cp311-cp311-manylinux_2_17_x86_64.manylinux2014_x86_64.whl (489.9 MB)\n",
            "\u001b[2K   \u001b[90m━━━━━━━━━━━━━━━━━━━━━━━━━━━━━━━━━━━━━━━━\u001b[0m \u001b[32m489.9/489.9 MB\u001b[0m \u001b[31m3.2 MB/s\u001b[0m eta \u001b[36m0:00:00\u001b[0m\n",
            "\u001b[?25hDownloading ml_dtypes-0.2.0-cp311-cp311-manylinux_2_17_x86_64.manylinux2014_x86_64.whl (1.0 MB)\n",
            "\u001b[2K   \u001b[90m━━━━━━━━━━━━━━━━━━━━━━━━━━━━━━━━━━━━━━━━\u001b[0m \u001b[32m1.0/1.0 MB\u001b[0m \u001b[31m37.0 MB/s\u001b[0m eta \u001b[36m0:00:00\u001b[0m\n",
            "\u001b[?25hDownloading tensorboard-2.14.1-py3-none-any.whl (5.5 MB)\n",
            "\u001b[2K   \u001b[90m━━━━━━━━━━━━━━━━━━━━━━━━━━━━━━━━━━━━━━━━\u001b[0m \u001b[32m5.5/5.5 MB\u001b[0m \u001b[31m51.1 MB/s\u001b[0m eta \u001b[36m0:00:00\u001b[0m\n",
            "\u001b[?25hDownloading tensorflow_estimator-2.14.0-py2.py3-none-any.whl (440 kB)\n",
            "\u001b[2K   \u001b[90m━━━━━━━━━━━━━━━━━━━━━━━━━━━━━━━━━━━━━━━━\u001b[0m \u001b[32m440.7/440.7 kB\u001b[0m \u001b[31m18.6 MB/s\u001b[0m eta \u001b[36m0:00:00\u001b[0m\n",
            "\u001b[?25hDownloading wrapt-1.14.1-cp311-cp311-manylinux_2_5_x86_64.manylinux1_x86_64.manylinux_2_17_x86_64.manylinux2014_x86_64.whl (78 kB)\n",
            "\u001b[2K   \u001b[90m━━━━━━━━━━━━━━━━━━━━━━━━━━━━━━━━━━━━━━━━\u001b[0m \u001b[32m78.4/78.4 kB\u001b[0m \u001b[31m6.1 MB/s\u001b[0m eta \u001b[36m0:00:00\u001b[0m\n",
            "\u001b[?25hDownloading google_auth_oauthlib-1.0.0-py2.py3-none-any.whl (18 kB)\n",
            "Installing collected packages: wrapt, tensorflow-estimator, ml-dtypes, keras, google-auth-oauthlib, tensorboard, tensorflow\n",
            "  Attempting uninstall: wrapt\n",
            "    Found existing installation: wrapt 1.17.2\n",
            "    Uninstalling wrapt-1.17.2:\n",
            "      Successfully uninstalled wrapt-1.17.2\n",
            "  Attempting uninstall: ml-dtypes\n",
            "    Found existing installation: ml-dtypes 0.4.1\n",
            "    Uninstalling ml-dtypes-0.4.1:\n",
            "      Successfully uninstalled ml-dtypes-0.4.1\n",
            "  Attempting uninstall: keras\n",
            "    Found existing installation: keras 3.8.0\n",
            "    Uninstalling keras-3.8.0:\n",
            "      Successfully uninstalled keras-3.8.0\n",
            "  Attempting uninstall: google-auth-oauthlib\n",
            "    Found existing installation: google-auth-oauthlib 1.2.1\n",
            "    Uninstalling google-auth-oauthlib-1.2.1:\n",
            "      Successfully uninstalled google-auth-oauthlib-1.2.1\n",
            "  Attempting uninstall: tensorboard\n",
            "    Found existing installation: tensorboard 2.18.0\n",
            "    Uninstalling tensorboard-2.18.0:\n",
            "      Successfully uninstalled tensorboard-2.18.0\n",
            "  Attempting uninstall: tensorflow\n",
            "    Found existing installation: tensorflow 2.18.0\n",
            "    Uninstalling tensorflow-2.18.0:\n",
            "      Successfully uninstalled tensorflow-2.18.0\n",
            "\u001b[31mERROR: pip's dependency resolver does not currently take into account all the packages that are installed. This behaviour is the source of the following dependency conflicts.\n",
            "tf-keras 2.18.0 requires tensorflow<2.19,>=2.18, but you have tensorflow 2.14.0 which is incompatible.\n",
            "tensorstore 0.1.72 requires ml_dtypes>=0.3.1, but you have ml-dtypes 0.2.0 which is incompatible.\n",
            "tensorflow-text 2.18.1 requires tensorflow<2.19,>=2.18.0, but you have tensorflow 2.14.0 which is incompatible.\u001b[0m\u001b[31m\n",
            "\u001b[0mSuccessfully installed google-auth-oauthlib-1.0.0 keras-2.14.0 ml-dtypes-0.2.0 tensorboard-2.14.1 tensorflow-2.14.0 tensorflow-estimator-2.14.0 wrapt-1.14.1\n"
          ]
        },
        {
          "output_type": "display_data",
          "data": {
            "application/vnd.colab-display-data+json": {
              "pip_warning": {
                "packages": [
                  "keras",
                  "ml_dtypes",
                  "tensorflow",
                  "wrapt"
                ]
              },
              "id": "f57d8027d11b44e0a48ffa93b8142871"
            }
          },
          "metadata": {}
        }
      ]
    },
    {
      "cell_type": "code",
      "execution_count": 1,
      "id": "4b099519",
      "metadata": {
        "id": "4b099519"
      },
      "outputs": [],
      "source": [
        "# Common packages\n",
        "import pandas as pd\n",
        "import numpy as np\n",
        "import matplotlib.pyplot as plt\n",
        "from pathlib import Path\n",
        "from sklearn.model_selection import train_test_split\n",
        "from collections import defaultdict\n",
        "from tqdm import tqdm\n",
        "import time\n",
        "\n",
        "import tensorflow as tf\n",
        "from tensorflow import keras\n",
        "tf.random.set_seed(42)\n",
        "\n",
        "from sklearn.gaussian_process import GaussianProcessRegressor\n",
        "from sklearn.gaussian_process.kernels import RBF\n",
        "from scipy.integrate import solve_ivp\n",
        "\n",
        "from sklearn.metrics import mean_absolute_percentage_error, mean_squared_error"
      ]
    },
    {
      "cell_type": "markdown",
      "id": "50f0ecca",
      "metadata": {
        "id": "50f0ecca"
      },
      "source": [
        "### 1. Data generation\n",
        "\n",
        "We use a zero-mean Gaussian Process to generate the dataset for both training and testing."
      ]
    },
    {
      "cell_type": "code",
      "execution_count": 2,
      "id": "e8fc7bde",
      "metadata": {
        "id": "e8fc7bde"
      },
      "outputs": [],
      "source": [
        "def create_samples(length_scale, sample_num):\n",
        "    \"\"\"Create synthetic data for u(·)\n",
        "\n",
        "    Args:\n",
        "    ----\n",
        "    length_scale: float, length scale for RNF kernel\n",
        "    sample_num: number of u(·) profiles to generate\n",
        "\n",
        "    Outputs:\n",
        "    --------\n",
        "    u_sample: generated u(·) profiles\n",
        "    \"\"\"\n",
        "\n",
        "    # Define kernel with given length scale\n",
        "    kernel = RBF(length_scale)\n",
        "\n",
        "    # Create Gaussian process regressor\n",
        "    gp = GaussianProcessRegressor(kernel=kernel)\n",
        "\n",
        "    # collocation point locations\n",
        "    X_sample = np.linspace(0, 1, 100).reshape(-1, 1)\n",
        "\n",
        "    # create samples\n",
        "    u_sample = np.zeros((sample_num, 100))\n",
        "    for i in range(sample_num):\n",
        "        n = np.random.randint(0, 10000)\n",
        "        u_sample[i, :] = gp.sample_y(X_sample, random_state=n).flatten()  # sampling from the prior\n",
        "\n",
        "    return u_sample"
      ]
    },
    {
      "cell_type": "code",
      "execution_count": 3,
      "id": "6377f3a5",
      "metadata": {
        "colab": {
          "base_uri": "https://localhost:8080/",
          "height": 830
        },
        "id": "6377f3a5",
        "outputId": "97b712a3-45af-4203-f189-8b57cc747de1"
      },
      "outputs": [
        {
          "output_type": "display_data",
          "data": {
            "text/plain": [
              "<Figure size 1000x1000 with 4 Axes>"
            ],
            "image/png": "[encoded data removed]"
          },
          "metadata": {}
        }
      ],
      "source": [
        "# Inspect generated data\n",
        "length_scale = 0.4\n",
        "N = 20\n",
        "X_sample = np.linspace(0, 1, 100).reshape(-1, 1)\n",
        "y_sample = create_samples(length_scale, N)\n",
        "\n",
        "fig, axs = plt.subplots(2, 2, figsize=(10, 10))\n",
        "index = np.random.choice(np.arange(0, N), size=4, replace=False)\n",
        "for i in range(4):\n",
        "    ax = axs[i // 2, i % 2]\n",
        "    ax.plot(X_sample, y_sample[index[i]])"
      ]
    },
    {
      "cell_type": "markdown",
      "id": "d2e26ea0",
      "metadata": {
        "id": "d2e26ea0"
      },
      "source": [
        "### 2. Organize dataset for PI-DeepONet"
      ]
    },
    {
      "cell_type": "code",
      "execution_count": 4,
      "id": "fc34aca2",
      "metadata": {
        "id": "fc34aca2"
      },
      "outputs": [],
      "source": [
        "def generate_dataset(N, length_scale, a, b, ODE_solve=False):\n",
        "    \"\"\"Generate dataset for Physics-informed DeepONet training.\n",
        "\n",
        "    Args:\n",
        "    ----\n",
        "    N: int, number of u(·) profiles\n",
        "    length_scale: float, length scale for RNF kernel\n",
        "    ODE_solve: boolean, indicate whether to compute the corresponding s(·)\n",
        "\n",
        "    Outputs:\n",
        "    --------\n",
        "    X: the dataset for t, u(·) profiles, and u(t)\n",
        "    y: the dataset for the corresponding ODE solution s(·)\n",
        "    \"\"\"\n",
        "\n",
        "    # Create random fields\n",
        "    random_field = create_samples(length_scale, N)\n",
        "\n",
        "    # Compile dataset\n",
        "    X = np.zeros((N*100, 100+2))\n",
        "    y = np.zeros((N*100, 1))\n",
        "\n",
        "    for i in tqdm(range(N)):\n",
        "        u = np.tile(random_field[i, :], (100, 1))\n",
        "        t = np.linspace(0, 1, 100).reshape(-1, 1)\n",
        "\n",
        "        # u(·) evaluated at t\n",
        "        u_t = np.diag(u).reshape(-1, 1)\n",
        "\n",
        "        # Update overall matrix\n",
        "        X[i*100:(i+1)*100, :] = np.concatenate((t, u, u_t), axis=1)\n",
        "\n",
        "        # Solve ODE\n",
        "        if ODE_solve:\n",
        "            sol = solve_ivp(lambda var_t, var_s: a*np.interp(var_t, t.flatten(), random_field[i, :])+b,\n",
        "                            t_span=[0, 1], y0=[0], t_eval=t.flatten(), method='RK45')\n",
        "            y[i*100:(i+1)*100, :] = sol.y[0].reshape(-1, 1)\n",
        "\n",
        "    return X, y"
      ]
    },
    {
      "cell_type": "code",
      "execution_count": 5,
      "id": "3da5fb36",
      "metadata": {
        "scrolled": true,
        "colab": {
          "base_uri": "https://localhost:8080/"
        },
        "id": "3da5fb36",
        "outputId": "5b67b3a4-4258-4095-de01-66b5aa7a4982"
      },
      "outputs": [
        {
          "output_type": "stream",
          "name": "stderr",
          "text": [
            "100%|██████████| 2000/2000 [00:03<00:00, 651.24it/s]\n",
            "100%|██████████| 100/100 [00:00<00:00, 536.37it/s]\n",
            "100%|██████████| 100/100 [00:00<00:00, 537.97it/s]\n"
          ]
        }
      ],
      "source": [
        "# Define true parameter values\n",
        "a, b = 0.5, 0.5\n",
        "\n",
        "# Create training dataset\n",
        "N_train = 2000\n",
        "length_scale_train = 0.4\n",
        "X_train, y_train = generate_dataset(N_train, length_scale_train, a, b, ODE_solve=True)\n",
        "\n",
        "# Create validation dataset\n",
        "N_val = 100\n",
        "length_scale_test = 0.4\n",
        "X_val, y_val = generate_dataset(N_val, length_scale_test, a, b, ODE_solve=True)\n",
        "\n",
        "# Create testing dataset\n",
        "N_test = 100\n",
        "length_scale_test = 0.4\n",
        "X_test, y_test = generate_dataset(N_test, length_scale_test, a, b, ODE_solve=True)"
      ]
    },
    {
      "cell_type": "code",
      "execution_count": 6,
      "id": "f8aa4fd3",
      "metadata": {
        "colab": {
          "base_uri": "https://localhost:8080/",
          "height": 406
        },
        "id": "f8aa4fd3",
        "outputId": "a42c8b04-2574-4c7f-86cf-0cdcd6b6f9c7"
      },
      "outputs": [
        {
          "output_type": "display_data",
          "data": {
            "text/plain": [
              "<Figure size 1300x400 with 6 Axes>"
            ],
            "image/png": "[encoded data removed]"
          },
          "metadata": {}
        }
      ],
      "source": [
        "%matplotlib inline\n",
        "color = ['b', 'g', 'c']\n",
        "fig, axs = plt.subplots(2, 3, figsize=(13, 4))\n",
        "sample_id = np.random.choice(np.arange(0, 100), size=3, replace=False)\n",
        "for i in range(3):\n",
        "    ax = axs[0, i]\n",
        "    ax.plot(np.linspace(0, 1, 100), X_test[sample_id[i]*100, 1:-1], lw=4, c=color[i])\n",
        "    ax.set_xlabel('t', fontsize=14)\n",
        "    ax.set_ylabel('u(t)', fontsize=14)\n",
        "    ax.tick_params(axis='both', which='major', labelsize=12)\n",
        "    ax.grid(True)\n",
        "\n",
        "\n",
        "    ax = axs[1, i]\n",
        "    ax.plot(np.linspace(0, 1, 100), y_test[sample_id[i]*100:(sample_id[i]+1)*100, :], lw=4, c=color[i])\n",
        "    ax.set_xlabel('t', fontsize=14)\n",
        "    ax.set_ylabel('s(t)', fontsize=14)\n",
        "    ax.tick_params(axis='both', which='major', labelsize=12)\n",
        "    ax.grid(True)\n",
        "\n",
        "plt.tight_layout()\n",
        "plt.savefig('inverse_param_sample.png', bbox_inches='tight', transparent=True)"
      ]
    },
    {
      "cell_type": "markdown",
      "id": "e5f909f8",
      "metadata": {
        "id": "e5f909f8"
      },
      "source": [
        "#### Separate initial condition and collocation points"
      ]
    },
    {
      "cell_type": "code",
      "execution_count": 7,
      "id": "9872e0e5",
      "metadata": {
        "id": "9872e0e5"
      },
      "outputs": [],
      "source": [
        "# Determine batch size\n",
        "ini_batch_size = int(2000/100)\n",
        "col_batch_size = 2000\n",
        "\n",
        "# Create dataset object (initial conditions)\n",
        "X_train_ini = tf.convert_to_tensor(X_train[X_train[:, 0]==0], dtype=tf.float32)\n",
        "y_train_ini = tf.convert_to_tensor(y_train[X_train[:, 0]==0], dtype=tf.float32)\n",
        "ini_ds = tf.data.Dataset.from_tensor_slices((X_train_ini, y_train_ini))\n",
        "ini_ds = ini_ds.shuffle(5000).batch(ini_batch_size)\n",
        "\n",
        "\n",
        "# Create dataset object (collocation points)\n",
        "X_train = tf.convert_to_tensor(X_train, dtype=tf.float32)\n",
        "y_train = tf.convert_to_tensor(y_train, dtype=tf.float32)\n",
        "train_ds = tf.data.Dataset.from_tensor_slices((X_train, y_train))\n",
        "train_ds = train_ds.shuffle(100000).batch(col_batch_size)\n",
        "\n",
        "# Scaling\n",
        "mean = {\n",
        "    'forcing': np.mean(X_train[:, 1:-1], axis=0),\n",
        "    'time': np.mean(X_train[:, :1], axis=0)\n",
        "}\n",
        "\n",
        "var = {\n",
        "    'forcing': np.var(X_train[:, 1:-1], axis=0),\n",
        "    'time': np.var(X_train[:, :1], axis=0)\n",
        "}"
      ]
    },
    {
      "cell_type": "markdown",
      "id": "2f1bc507",
      "metadata": {
        "id": "2f1bc507"
      },
      "source": [
        "### 3. Physics-informed DeepONet"
      ]
    },
    {
      "cell_type": "markdown",
      "id": "8f0da68e",
      "metadata": {
        "id": "8f0da68e"
      },
      "source": [
        "#### Define a custom layer for adding a bias"
      ]
    },
    {
      "cell_type": "code",
      "execution_count": 8,
      "id": "fbc4a829",
      "metadata": {
        "id": "fbc4a829"
      },
      "outputs": [],
      "source": [
        "class BiasLayer(tf.keras.layers.Layer):\n",
        "    def build(self, input_shape):\n",
        "        self.bias = self.add_weight(shape=(1,),\n",
        "                                    initializer=tf.keras.initializers.Zeros(),\n",
        "                                    trainable=True)\n",
        "    def call(self, inputs):\n",
        "        return inputs + self.bias"
      ]
    },
    {
      "cell_type": "markdown",
      "id": "0473d4cb",
      "metadata": {
        "id": "0473d4cb"
      },
      "source": [
        "#### Define a custom layer for hosting unknown parameters"
      ]
    },
    {
      "cell_type": "code",
      "execution_count": 9,
      "id": "514d87af",
      "metadata": {
        "id": "514d87af"
      },
      "outputs": [],
      "source": [
        "class ParameterLayer(tf.keras.layers.Layer):\n",
        "    def __init__(self, a, b, trainable=True):\n",
        "        super(ParameterLayer, self).__init__()\n",
        "        self._a = tf.convert_to_tensor(a, dtype=tf.float32)\n",
        "        self._b = tf.convert_to_tensor(b, dtype=tf.float32)\n",
        "        self.trainable = trainable\n",
        "\n",
        "    def build(self, input_shape):\n",
        "        self.a = self.add_weight(\"a\", shape=(1,),\n",
        "                                 initializer=tf.keras.initializers.Constant(value=self._a),\n",
        "                                 trainable=self.trainable)\n",
        "        self.b = self.add_weight(\"b\", shape=(1,),\n",
        "                                 initializer=tf.keras.initializers.Constant(value=self._b),\n",
        "                                 trainable=self.trainable)\n",
        "\n",
        "    def get_config(self):\n",
        "        return super().get_config()\n",
        "\n",
        "    @classmethod\n",
        "    def from_config(cls, config):\n",
        "        return cls(**config)"
      ]
    },
    {
      "cell_type": "markdown",
      "id": "269d72e1",
      "metadata": {
        "id": "269d72e1"
      },
      "source": [
        "#### Define Physics-informed DeepONet"
      ]
    },
    {
      "cell_type": "code",
      "execution_count": 10,
      "id": "07f44642",
      "metadata": {
        "id": "07f44642"
      },
      "outputs": [],
      "source": [
        "def create_model(mean, var, a_init=None, b_init=None, trainable=None, verbose=False):\n",
        "    \"\"\"Definition of a DeepONet with fully connected branch and trunk layers.\n",
        "\n",
        "    Args:\n",
        "    ----\n",
        "    mean: dictionary, mean values of the inputs\n",
        "    var: dictionary, variance values of the inputs\n",
        "    a_init: float, initial value for parameter a\n",
        "    b_init: float, initial value for parameter b\n",
        "    trainable: boolean, indicate whether the parameters a and b will be updated during training\n",
        "    verbose: boolean, indicate whether to show the model summary\n",
        "\n",
        "    Outputs:\n",
        "    --------\n",
        "    model: the DeepONet model\n",
        "    \"\"\"\n",
        "\n",
        "    # Branch net\n",
        "    branch_input = tf.keras.Input(shape=(len(mean['forcing'])), name=\"forcing\")\n",
        "    branch = tf.keras.layers.Normalization(mean=mean['forcing'], variance=var['forcing'])(branch_input)\n",
        "    for i in range(3):\n",
        "        branch = tf.keras.layers.Dense(50, activation=\"tanh\")(branch)\n",
        "\n",
        "    # Trunk net\n",
        "    trunk_input = tf.keras.Input(shape=(len(mean['time'])), name=\"time\")\n",
        "    trunk = tf.keras.layers.Normalization(mean=mean['time'], variance=var['time'])(trunk_input)\n",
        "    for i in range(3):\n",
        "        trunk = tf.keras.layers.Dense(50, activation=\"tanh\")(trunk)\n",
        "\n",
        "    # Merge results\n",
        "    dot_product = tf.reduce_sum(tf.multiply(branch, trunk), axis=1, keepdims=True)\n",
        "\n",
        "    # Add the bias\n",
        "    dot_product_with_bias = BiasLayer()(dot_product)\n",
        "\n",
        "    # Add a & b trainable parameters\n",
        "    output = ParameterLayer(a_init, b_init, trainable)(dot_product_with_bias)\n",
        "\n",
        "    # Create the model\n",
        "    model = tf.keras.models.Model(inputs=[branch_input, trunk_input], outputs=output)\n",
        "\n",
        "    if verbose:\n",
        "        model.summary()\n",
        "\n",
        "    return model"
      ]
    },
    {
      "cell_type": "markdown",
      "id": "ad1c1a57",
      "metadata": {
        "id": "ad1c1a57"
      },
      "source": [
        "#### ODE loss"
      ]
    },
    {
      "cell_type": "code",
      "execution_count": 11,
      "id": "d994ca06",
      "metadata": {
        "id": "d994ca06"
      },
      "outputs": [],
      "source": [
        "@tf.function\n",
        "def ODE_residual_calculator(t, u, u_t, model):\n",
        "    \"\"\"ODE residual calculation.\n",
        "\n",
        "    Args:\n",
        "    ----\n",
        "    t: temporal coordinate\n",
        "    u: input function evaluated at discrete temporal coordinates\n",
        "    u_t: input function evaluated at t\n",
        "    model: DeepONet model\n",
        "\n",
        "    Outputs:\n",
        "    --------\n",
        "    ODE_residual: residual of the governing ODE\n",
        "    \"\"\"\n",
        "\n",
        "    with tf.GradientTape() as tape:\n",
        "        tape.watch(t)\n",
        "        s = model({\"forcing\": u, \"time\": t})\n",
        "\n",
        "    # Calculate gradients\n",
        "    ds_dt = tape.gradient(s, t)\n",
        "\n",
        "    # ODE residual\n",
        "    ODE_residual = ds_dt - model.layers[-1].a*u_t - model.layers[-1].b\n",
        "\n",
        "    return ODE_residual"
      ]
    },
    {
      "cell_type": "markdown",
      "id": "54dc10ee",
      "metadata": {
        "id": "54dc10ee"
      },
      "source": [
        "#### Gradient descent step"
      ]
    },
    {
      "cell_type": "code",
      "execution_count": 12,
      "id": "605a3d05",
      "metadata": {
        "id": "605a3d05"
      },
      "outputs": [],
      "source": [
        "@tf.function\n",
        "def train_step(X, y, X_init, IC_weight, ODE_weight, data_weight, model):\n",
        "    \"\"\"Calculate gradients of the total loss with respect to network model parameters.\n",
        "\n",
        "    Args:\n",
        "    ----\n",
        "    X: training dataset for evaluating ODE residuals\n",
        "    y: target value of the training dataset\n",
        "    X_init: training dataset for evaluating initial conditions\n",
        "    IC_weight: weight for initial condition loss\n",
        "    ODE_weight: weight for ODE loss\n",
        "    data_weight: weight for data loss\n",
        "    model: DeepONet model\n",
        "\n",
        "    Outputs:\n",
        "    --------\n",
        "    ODE_loss: calculated ODE loss\n",
        "    IC_loss: calculated initial condition loss\n",
        "    data_loss: calculated data loss\n",
        "    total_loss: weighted sum of ODE loss, initial condition loss, and data loss\n",
        "    gradients: gradients of the total loss with respect to network model parameters.\n",
        "    \"\"\"\n",
        "    with tf.GradientTape() as tape:\n",
        "        tape.watch(model.trainable_weights)\n",
        "\n",
        "        # Initial condition prediction\n",
        "        y_pred_IC = model({\"forcing\": X_init[:, 1:-1], \"time\": X_init[:, :1]})\n",
        "\n",
        "        # Equation residual\n",
        "        ODE_residual = ODE_residual_calculator(t=X[:, :1], u=X[:, 1:-1], u_t=X[:, -1:], model=model)\n",
        "\n",
        "        # Data loss\n",
        "        y_pred_data = model({\"forcing\": X[:, 1:-1], \"time\": X[:, :1]})\n",
        "\n",
        "        # Calculate loss\n",
        "        IC_loss = tf.reduce_mean(keras.losses.mean_squared_error(0, y_pred_IC))\n",
        "        ODE_loss = tf.reduce_mean(tf.square(ODE_residual))\n",
        "        data_loss = tf.reduce_mean(keras.losses.mean_squared_error(y, y_pred_data))\n",
        "\n",
        "        # Weight loss\n",
        "        total_loss = IC_loss*IC_weight + ODE_loss*ODE_weight + data_loss*data_weight\n",
        "\n",
        "    gradients = tape.gradient(total_loss, model.trainable_variables)\n",
        "\n",
        "    return ODE_loss, IC_loss, data_loss, total_loss, gradients"
      ]
    },
    {
      "cell_type": "markdown",
      "id": "60c7e725",
      "metadata": {
        "id": "60c7e725"
      },
      "source": [
        "#### Define Loss Tracking class"
      ]
    },
    {
      "cell_type": "code",
      "execution_count": 13,
      "id": "1e64fae7",
      "metadata": {
        "id": "1e64fae7"
      },
      "outputs": [],
      "source": [
        "class LossTracking:\n",
        "\n",
        "    def __init__(self):\n",
        "        self.mean_total_loss = keras.metrics.Mean()\n",
        "        self.mean_IC_loss = keras.metrics.Mean()\n",
        "        self.mean_ODE_loss = keras.metrics.Mean()\n",
        "        self.mean_data_loss = keras.metrics.Mean()\n",
        "        self.loss_history = defaultdict(list)\n",
        "\n",
        "    def update(self, total_loss, IC_loss, ODE_loss, data_loss):\n",
        "        self.mean_total_loss(total_loss)\n",
        "        self.mean_IC_loss(IC_loss)\n",
        "        self.mean_ODE_loss(ODE_loss)\n",
        "        self.mean_data_loss(data_loss)\n",
        "\n",
        "    def reset(self):\n",
        "        self.mean_total_loss.reset_states()\n",
        "        self.mean_IC_loss.reset_states()\n",
        "        self.mean_ODE_loss.reset_states()\n",
        "        self.mean_data_loss.reset_states()\n",
        "\n",
        "    def print(self):\n",
        "        print(f\"IC={self.mean_IC_loss.result().numpy():.4e}, \\\n",
        "              ODE={self.mean_ODE_loss.result().numpy():.4e}, \\\n",
        "              data={self.mean_data_loss.result().numpy():.4e}, \\\n",
        "              total_loss={self.mean_total_loss.result().numpy():.4e}\")\n",
        "\n",
        "    def history(self):\n",
        "        self.loss_history['total_loss'].append(self.mean_total_loss.result().numpy())\n",
        "        self.loss_history['IC_loss'].append(self.mean_IC_loss.result().numpy())\n",
        "        self.loss_history['ODE_loss'].append(self.mean_ODE_loss.result().numpy())\n",
        "        self.loss_history['Data_loss'].append(self.mean_data_loss.result().numpy())"
      ]
    },
    {
      "cell_type": "markdown",
      "id": "f147291b",
      "metadata": {
        "id": "f147291b"
      },
      "source": [
        "#### Define callback"
      ]
    },
    {
      "cell_type": "code",
      "execution_count": 14,
      "id": "3b083a7f",
      "metadata": {
        "id": "3b083a7f"
      },
      "outputs": [],
      "source": [
        "class PrintParameters(keras.callbacks.Callback):\n",
        "\n",
        "    def on_epoch_end(self, epoch, logs=None):\n",
        "        print(f\"\\na: {self.model.layers[-1].a.numpy()}, b: {self.model.layers[-1].b.numpy()}\")"
      ]
    },
    {
      "cell_type": "markdown",
      "id": "6fcc08f3",
      "metadata": {
        "id": "6fcc08f3"
      },
      "source": [
        "#### Training"
      ]
    },
    {
      "cell_type": "code",
      "execution_count": 16,
      "id": "47947a29",
      "metadata": {
        "scrolled": true,
        "colab": {
          "base_uri": "https://localhost:8080/"
        },
        "id": "47947a29",
        "outputId": "f5863e27-17f7-4084-8213-b7ebcf391a1e"
      },
      "outputs": [
        {
          "output_type": "stream",
          "name": "stdout",
          "text": [
            "Epoch 1:\n",
            "IC=7.5353e-02,               ODE=2.4908e-01,               data=5.3687e-02,               total_loss=3.7812e-01\n",
            "1/1 [==============================] - 0s 126ms/step\n",
            "val_loss: 1.8834e-02, lr: 1.00e-03\n",
            "\n",
            "a: [0.19587262], b: [0.7457449]\n",
            "1/1 [==============================] - 0s 35ms/step\n",
            "RMSE: 0.02061645430788978\n",
            "1/1 [==============================] - 0s 21ms/step\n",
            "Epoch 2:\n",
            "IC=7.0333e-03,               ODE=2.3482e-02,               data=1.7131e-02,               total_loss=4.7646e-02\n",
            "1/1 [==============================] - 0s 34ms/step\n",
            "val_loss: 1.5489e-02, lr: 1.00e-03\n",
            "\n",
            "a: [0.19748087], b: [0.7118423]\n"
          ]
        },
        {
          "output_type": "stream",
          "name": "stderr",
          "text": [
            "/usr/local/lib/python3.11/dist-packages/keras/src/engine/training.py:3079: UserWarning: You are saving your model as an HDF5 file via `model.save()`. This file format is considered legacy. We recommend using instead the native Keras format, e.g. `model.save('my_model.keras')`.\n",
            "  saving_api.save_model(\n"
          ]
        },
        {
          "output_type": "stream",
          "name": "stdout",
          "text": [
            "1/1 [==============================] - 0s 59ms/step\n",
            "RMSE: 0.01636231809855421\n",
            "1/1 [==============================] - 0s 138ms/step\n",
            "Epoch 3:\n",
            "IC=5.5540e-03,               ODE=1.3448e-02,               data=1.3699e-02,               total_loss=3.2701e-02\n",
            "1/1 [==============================] - 0s 35ms/step\n",
            "val_loss: 1.2728e-02, lr: 1.00e-03\n",
            "\n",
            "a: [0.20884407], b: [0.67818445]\n",
            "1/1 [==============================] - 0s 36ms/step\n",
            "RMSE: 0.013004717181851823\n",
            "1/1 [==============================] - 0s 21ms/step\n",
            "Epoch 4:\n"
          ]
        },
        {
          "output_type": "stream",
          "name": "stderr",
          "text": [
            "/usr/local/lib/python3.11/dist-packages/keras/src/engine/training.py:3079: UserWarning: You are saving your model as an HDF5 file via `model.save()`. This file format is considered legacy. We recommend using instead the native Keras format, e.g. `model.save('my_model.keras')`.\n",
            "  saving_api.save_model(\n"
          ]
        },
        {
          "output_type": "stream",
          "name": "stdout",
          "text": [
            "IC=4.2096e-03,               ODE=8.3219e-03,               data=1.0901e-02,               total_loss=2.3432e-02\n",
            "1/1 [==============================] - 0s 54ms/step\n",
            "val_loss: 1.0631e-02, lr: 1.00e-03\n",
            "\n",
            "a: [0.22980969], b: [0.6468901]\n",
            "1/1 [==============================] - 0s 38ms/step\n",
            "RMSE: 0.010371481590293836\n",
            "1/1 [==============================] - 0s 20ms/step\n",
            "Epoch 5:\n"
          ]
        },
        {
          "output_type": "stream",
          "name": "stderr",
          "text": [
            "/usr/local/lib/python3.11/dist-packages/keras/src/engine/training.py:3079: UserWarning: You are saving your model as an HDF5 file via `model.save()`. This file format is considered legacy. We recommend using instead the native Keras format, e.g. `model.save('my_model.keras')`.\n",
            "  saving_api.save_model(\n"
          ]
        },
        {
          "output_type": "stream",
          "name": "stdout",
          "text": [
            "IC=3.0867e-03,               ODE=5.7808e-03,               data=8.5363e-03,               total_loss=1.7404e-02\n",
            "1/1 [==============================] - 0s 36ms/step\n",
            "val_loss: 7.7864e-03, lr: 1.00e-03\n",
            "\n",
            "a: [0.2549609], b: [0.61944634]\n",
            "1/1 [==============================] - 0s 35ms/step\n",
            "RMSE: 0.007590302909298306\n",
            "1/1 [==============================] - 0s 23ms/step\n",
            "Epoch 6:\n"
          ]
        },
        {
          "output_type": "stream",
          "name": "stderr",
          "text": [
            "/usr/local/lib/python3.11/dist-packages/keras/src/engine/training.py:3079: UserWarning: You are saving your model as an HDF5 file via `model.save()`. This file format is considered legacy. We recommend using instead the native Keras format, e.g. `model.save('my_model.keras')`.\n",
            "  saving_api.save_model(\n"
          ]
        },
        {
          "output_type": "stream",
          "name": "stdout",
          "text": [
            "IC=2.3414e-03,               ODE=4.5160e-03,               data=6.5132e-03,               total_loss=1.3371e-02\n",
            "1/1 [==============================] - 0s 35ms/step\n",
            "val_loss: 6.0428e-03, lr: 1.00e-03\n",
            "\n",
            "a: [0.28026316], b: [0.5961184]\n",
            "1/1 [==============================] - 0s 33ms/step\n",
            "RMSE: 0.005902056050277935\n",
            "1/1 [==============================] - 0s 20ms/step\n",
            "Epoch 7:\n"
          ]
        },
        {
          "output_type": "stream",
          "name": "stderr",
          "text": [
            "/usr/local/lib/python3.11/dist-packages/keras/src/engine/training.py:3079: UserWarning: You are saving your model as an HDF5 file via `model.save()`. This file format is considered legacy. We recommend using instead the native Keras format, e.g. `model.save('my_model.keras')`.\n",
            "  saving_api.save_model(\n"
          ]
        },
        {
          "output_type": "stream",
          "name": "stdout",
          "text": [
            "IC=1.7891e-03,               ODE=3.9480e-03,               data=4.9901e-03,               total_loss=1.0727e-02\n",
            "1/1 [==============================] - 0s 34ms/step\n",
            "val_loss: 4.5045e-03, lr: 1.00e-03\n",
            "\n",
            "a: [0.30455717], b: [0.5764399]\n",
            "1/1 [==============================] - 0s 36ms/step\n",
            "RMSE: 0.004444129438717123\n",
            "1/1 [==============================] - 0s 23ms/step\n"
          ]
        },
        {
          "output_type": "stream",
          "name": "stderr",
          "text": [
            "/usr/local/lib/python3.11/dist-packages/keras/src/engine/training.py:3079: UserWarning: You are saving your model as an HDF5 file via `model.save()`. This file format is considered legacy. We recommend using instead the native Keras format, e.g. `model.save('my_model.keras')`.\n",
            "  saving_api.save_model(\n"
          ]
        },
        {
          "output_type": "stream",
          "name": "stdout",
          "text": [
            "Epoch 8:\n",
            "IC=1.3668e-03,               ODE=3.6037e-03,               data=3.7772e-03,               total_loss=8.7477e-03\n",
            "1/1 [==============================] - 0s 34ms/step\n",
            "val_loss: 3.5423e-03, lr: 1.00e-03\n",
            "\n",
            "a: [0.3271614], b: [0.55974746]\n",
            "1/1 [==============================] - 0s 36ms/step\n",
            "RMSE: 0.0035019140230896353\n",
            "1/1 [==============================] - 0s 21ms/step\n",
            "Epoch 9:\n"
          ]
        },
        {
          "output_type": "stream",
          "name": "stderr",
          "text": [
            "/usr/local/lib/python3.11/dist-packages/keras/src/engine/training.py:3079: UserWarning: You are saving your model as an HDF5 file via `model.save()`. This file format is considered legacy. We recommend using instead the native Keras format, e.g. `model.save('my_model.keras')`.\n",
            "  saving_api.save_model(\n"
          ]
        },
        {
          "output_type": "stream",
          "name": "stdout",
          "text": [
            "IC=1.0592e-03,               ODE=3.3861e-03,               data=2.8670e-03,               total_loss=7.3123e-03\n",
            "1/1 [==============================] - 0s 35ms/step\n",
            "val_loss: 3.0100e-03, lr: 1.00e-03\n",
            "\n",
            "a: [0.34755006], b: [0.54570764]\n",
            "1/1 [==============================] - 0s 34ms/step\n",
            "RMSE: 0.0030068434264619495\n",
            "1/1 [==============================] - 0s 23ms/step\n"
          ]
        },
        {
          "output_type": "stream",
          "name": "stderr",
          "text": [
            "/usr/local/lib/python3.11/dist-packages/keras/src/engine/training.py:3079: UserWarning: You are saving your model as an HDF5 file via `model.save()`. This file format is considered legacy. We recommend using instead the native Keras format, e.g. `model.save('my_model.keras')`.\n",
            "  saving_api.save_model(\n"
          ]
        },
        {
          "output_type": "stream",
          "name": "stdout",
          "text": [
            "Epoch 10:\n",
            "IC=8.2565e-04,               ODE=3.1859e-03,               data=2.1901e-03,               total_loss=6.2017e-03\n",
            "1/1 [==============================] - 0s 38ms/step\n",
            "val_loss: 2.3939e-03, lr: 1.00e-03\n",
            "\n",
            "a: [0.36572823], b: [0.5338754]\n",
            "1/1 [==============================] - 0s 35ms/step\n",
            "RMSE: 0.002411340480910304\n",
            "1/1 [==============================] - 0s 21ms/step\n",
            "Epoch 11:\n"
          ]
        },
        {
          "output_type": "stream",
          "name": "stderr",
          "text": [
            "/usr/local/lib/python3.11/dist-packages/keras/src/engine/training.py:3079: UserWarning: You are saving your model as an HDF5 file via `model.save()`. This file format is considered legacy. We recommend using instead the native Keras format, e.g. `model.save('my_model.keras')`.\n",
            "  saving_api.save_model(\n"
          ]
        },
        {
          "output_type": "stream",
          "name": "stdout",
          "text": [
            "IC=6.3144e-04,               ODE=3.0180e-03,               data=1.6675e-03,               total_loss=5.3170e-03\n",
            "1/1 [==============================] - 0s 37ms/step\n",
            "val_loss: 1.7863e-03, lr: 1.00e-03\n",
            "\n",
            "a: [0.38181487], b: [0.5242862]\n",
            "1/1 [==============================] - 0s 33ms/step\n",
            "RMSE: 0.0018542699942200645\n",
            "1/1 [==============================] - 0s 20ms/step\n",
            "Epoch 12:\n"
          ]
        },
        {
          "output_type": "stream",
          "name": "stderr",
          "text": [
            "/usr/local/lib/python3.11/dist-packages/keras/src/engine/training.py:3079: UserWarning: You are saving your model as an HDF5 file via `model.save()`. This file format is considered legacy. We recommend using instead the native Keras format, e.g. `model.save('my_model.keras')`.\n",
            "  saving_api.save_model(\n"
          ]
        },
        {
          "output_type": "stream",
          "name": "stdout",
          "text": [
            "IC=5.0170e-04,               ODE=2.8737e-03,               data=1.2763e-03,               total_loss=4.6517e-03\n",
            "1/1 [==============================] - 0s 35ms/step\n",
            "val_loss: 1.2636e-03, lr: 1.00e-03\n",
            "\n",
            "a: [0.39569426], b: [0.5166269]\n",
            "1/1 [==============================] - 0s 35ms/step\n",
            "RMSE: 0.0013352413455090411\n",
            "1/1 [==============================] - 0s 21ms/step\n",
            "Epoch 13:\n"
          ]
        },
        {
          "output_type": "stream",
          "name": "stderr",
          "text": [
            "/usr/local/lib/python3.11/dist-packages/keras/src/engine/training.py:3079: UserWarning: You are saving your model as an HDF5 file via `model.save()`. This file format is considered legacy. We recommend using instead the native Keras format, e.g. `model.save('my_model.keras')`.\n",
            "  saving_api.save_model(\n"
          ]
        },
        {
          "output_type": "stream",
          "name": "stdout",
          "text": [
            "IC=4.0780e-04,               ODE=2.7566e-03,               data=9.9729e-04,               total_loss=4.1617e-03\n",
            "1/1 [==============================] - 0s 36ms/step\n",
            "val_loss: 1.1142e-03, lr: 1.00e-03\n",
            "\n",
            "a: [0.40752688], b: [0.5107102]\n",
            "1/1 [==============================] - 0s 33ms/step\n",
            "RMSE: 0.0011726609490542988\n",
            "1/1 [==============================] - 0s 20ms/step\n",
            "Epoch 14:\n"
          ]
        },
        {
          "output_type": "stream",
          "name": "stderr",
          "text": [
            "/usr/local/lib/python3.11/dist-packages/keras/src/engine/training.py:3079: UserWarning: You are saving your model as an HDF5 file via `model.save()`. This file format is considered legacy. We recommend using instead the native Keras format, e.g. `model.save('my_model.keras')`.\n",
            "  saving_api.save_model(\n"
          ]
        },
        {
          "output_type": "stream",
          "name": "stdout",
          "text": [
            "IC=3.3204e-04,               ODE=2.6408e-03,               data=8.0160e-04,               total_loss=3.7744e-03\n",
            "1/1 [==============================] - 0s 34ms/step\n",
            "val_loss: 5.7953e-04, lr: 1.00e-03\n",
            "\n",
            "a: [0.41786164], b: [0.5061755]\n",
            "1/1 [==============================] - 0s 40ms/step\n",
            "RMSE: 0.0006805103866347838\n",
            "1/1 [==============================] - 0s 24ms/step\n"
          ]
        },
        {
          "output_type": "stream",
          "name": "stderr",
          "text": [
            "/usr/local/lib/python3.11/dist-packages/keras/src/engine/training.py:3079: UserWarning: You are saving your model as an HDF5 file via `model.save()`. This file format is considered legacy. We recommend using instead the native Keras format, e.g. `model.save('my_model.keras')`.\n",
            "  saving_api.save_model(\n"
          ]
        },
        {
          "output_type": "stream",
          "name": "stdout",
          "text": [
            "Epoch 15:\n",
            "IC=2.7296e-04,               ODE=2.5182e-03,               data=6.4306e-04,               total_loss=3.4342e-03\n",
            "1/1 [==============================] - 0s 44ms/step\n",
            "val_loss: 6.2997e-04, lr: 1.00e-03\n",
            "\n",
            "a: [0.42645112], b: [0.5029308]\n",
            "1/1 [==============================] - 0s 40ms/step\n",
            "RMSE: 0.00069501036694797\n",
            "1/1 [==============================] - 0s 21ms/step\n",
            "Epoch 16:\n",
            "IC=2.3442e-04,               ODE=2.4248e-03,               data=5.3582e-04,               total_loss=3.1950e-03\n",
            "1/1 [==============================] - 0s 37ms/step\n",
            "val_loss: 4.5271e-04, lr: 1.00e-03\n",
            "\n",
            "a: [0.43377995], b: [0.5006004]\n",
            "1/1 [==============================] - 0s 38ms/step\n",
            "RMSE: 0.0005079426484085079\n",
            "1/1 [==============================] - 0s 22ms/step\n",
            "Epoch 17:"
          ]
        },
        {
          "output_type": "stream",
          "name": "stderr",
          "text": [
            "/usr/local/lib/python3.11/dist-packages/keras/src/engine/training.py:3079: UserWarning: You are saving your model as an HDF5 file via `model.save()`. This file format is considered legacy. We recommend using instead the native Keras format, e.g. `model.save('my_model.keras')`.\n",
            "  saving_api.save_model(\n"
          ]
        },
        {
          "output_type": "stream",
          "name": "stdout",
          "text": [
            "\n",
            "IC=1.9640e-04,               ODE=2.3030e-03,               data=4.4133e-04,               total_loss=2.9407e-03\n",
            "1/1 [==============================] - 0s 37ms/step\n",
            "val_loss: 4.3421e-04, lr: 1.00e-03\n",
            "\n",
            "a: [0.4401165], b: [0.49894235]\n",
            "1/1 [==============================] - 0s 36ms/step\n",
            "RMSE: 0.0004812346884120515\n",
            "1/1 [==============================] - 0s 21ms/step\n",
            "Epoch 18:\n"
          ]
        },
        {
          "output_type": "stream",
          "name": "stderr",
          "text": [
            "/usr/local/lib/python3.11/dist-packages/keras/src/engine/training.py:3079: UserWarning: You are saving your model as an HDF5 file via `model.save()`. This file format is considered legacy. We recommend using instead the native Keras format, e.g. `model.save('my_model.keras')`.\n",
            "  saving_api.save_model(\n"
          ]
        },
        {
          "output_type": "stream",
          "name": "stdout",
          "text": [
            "IC=1.7207e-04,               ODE=2.1867e-03,               data=3.7332e-04,               total_loss=2.7321e-03\n",
            "1/1 [==============================] - 0s 46ms/step\n",
            "val_loss: 5.4595e-04, lr: 1.00e-03\n",
            "\n",
            "a: [0.44538358], b: [0.49786898]\n",
            "1/1 [==============================] - 0s 35ms/step\n",
            "RMSE: 0.0005753899371501897\n",
            "1/1 [==============================] - 0s 21ms/step\n",
            "Epoch 19:\n",
            "IC=1.4489e-04,               ODE=2.1261e-03,               data=3.3825e-04,               total_loss=2.6093e-03\n",
            "1/1 [==============================] - 0s 44ms/step\n",
            "val_loss: 2.1222e-04, lr: 1.00e-03\n",
            "\n",
            "a: [0.44986212], b: [0.49738798]\n",
            "1/1 [==============================] - 0s 39ms/step\n",
            "RMSE: 0.0002724759276296408\n"
          ]
        },
        {
          "output_type": "stream",
          "name": "stderr",
          "text": [
            "/usr/local/lib/python3.11/dist-packages/keras/src/engine/training.py:3079: UserWarning: You are saving your model as an HDF5 file via `model.save()`. This file format is considered legacy. We recommend using instead the native Keras format, e.g. `model.save('my_model.keras')`.\n",
            "  saving_api.save_model(\n"
          ]
        },
        {
          "output_type": "stream",
          "name": "stdout",
          "text": [
            "1/1 [==============================] - 0s 27ms/step\n",
            "Epoch 20:\n",
            "IC=1.2521e-04,               ODE=2.0108e-03,               data=2.8845e-04,               total_loss=2.4244e-03\n",
            "1/1 [==============================] - 0s 43ms/step\n",
            "val_loss: 1.9984e-04, lr: 1.00e-03\n",
            "\n",
            "a: [0.45383683], b: [0.49694145]\n",
            "1/1 [==============================] - 0s 37ms/step\n",
            "RMSE: 0.00025609797563389507\n",
            "1/1 [==============================] - 0s 21ms/step\n",
            "Epoch 21:\n"
          ]
        },
        {
          "output_type": "stream",
          "name": "stderr",
          "text": [
            "/usr/local/lib/python3.11/dist-packages/keras/src/engine/training.py:3079: UserWarning: You are saving your model as an HDF5 file via `model.save()`. This file format is considered legacy. We recommend using instead the native Keras format, e.g. `model.save('my_model.keras')`.\n",
            "  saving_api.save_model(\n"
          ]
        },
        {
          "output_type": "stream",
          "name": "stdout",
          "text": [
            "IC=1.1177e-04,               ODE=1.8842e-03,               data=2.5292e-04,               total_loss=2.2489e-03\n",
            "1/1 [==============================] - 0s 39ms/step\n",
            "val_loss: 4.4383e-04, lr: 1.00e-03\n",
            "\n",
            "a: [0.45750758], b: [0.49687624]\n",
            "1/1 [==============================] - 0s 40ms/step\n",
            "RMSE: 0.0004240279188027542\n",
            "1/1 [==============================] - 0s 24ms/step\n",
            "Epoch 22:\n",
            "IC=9.7490e-05,               ODE=1.7655e-03,               data=2.2566e-04,               total_loss=2.0887e-03\n",
            "1/1 [==============================] - 0s 37ms/step\n",
            "val_loss: 3.4956e-04, lr: 1.00e-03\n",
            "\n",
            "a: [0.4608944], b: [0.49685305]\n",
            "1/1 [==============================] - 0s 35ms/step\n",
            "RMSE: 0.0003351306376375239\n",
            "1/1 [==============================] - 0s 21ms/step\n",
            "Epoch 23:\n",
            "IC=8.3573e-05,               ODE=1.6319e-03,               data=1.9853e-04,               total_loss=1.9140e-03\n",
            "1/1 [==============================] - 0s 35ms/step\n",
            "val_loss: 1.9842e-04, lr: 1.00e-03\n",
            "\n",
            "a: [0.463908], b: [0.496843]\n",
            "1/1 [==============================] - 0s 48ms/step\n",
            "RMSE: 0.0002142892783172548\n"
          ]
        },
        {
          "output_type": "stream",
          "name": "stderr",
          "text": [
            "/usr/local/lib/python3.11/dist-packages/keras/src/engine/training.py:3079: UserWarning: You are saving your model as an HDF5 file via `model.save()`. This file format is considered legacy. We recommend using instead the native Keras format, e.g. `model.save('my_model.keras')`.\n",
            "  saving_api.save_model(\n"
          ]
        },
        {
          "output_type": "stream",
          "name": "stdout",
          "text": [
            "1/1 [==============================] - 0s 22ms/step\n",
            "Epoch 24:\n",
            "IC=7.2762e-05,               ODE=1.4701e-03,               data=1.7823e-04,               total_loss=1.7211e-03\n",
            "1/1 [==============================] - 0s 35ms/step\n",
            "val_loss: 1.8208e-04, lr: 1.00e-03\n",
            "\n",
            "a: [0.4668638], b: [0.49696985]\n",
            "1/1 [==============================] - 0s 35ms/step\n",
            "RMSE: 0.00020011619376045998\n",
            "1/1 [==============================] - 0s 22ms/step\n",
            "Epoch 25:\n"
          ]
        },
        {
          "output_type": "stream",
          "name": "stderr",
          "text": [
            "/usr/local/lib/python3.11/dist-packages/keras/src/engine/training.py:3079: UserWarning: You are saving your model as an HDF5 file via `model.save()`. This file format is considered legacy. We recommend using instead the native Keras format, e.g. `model.save('my_model.keras')`.\n",
            "  saving_api.save_model(\n"
          ]
        },
        {
          "output_type": "stream",
          "name": "stdout",
          "text": [
            "IC=6.7995e-05,               ODE=1.2905e-03,               data=1.6275e-04,               total_loss=1.5213e-03\n",
            "1/1 [==============================] - 0s 35ms/step\n",
            "val_loss: 1.2663e-04, lr: 1.00e-03\n",
            "\n",
            "a: [0.47005248], b: [0.49705318]\n",
            "1/1 [==============================] - 0s 34ms/step\n",
            "RMSE: 0.0001479735305809403\n",
            "1/1 [==============================] - 0s 33ms/step\n"
          ]
        },
        {
          "output_type": "stream",
          "name": "stderr",
          "text": [
            "/usr/local/lib/python3.11/dist-packages/keras/src/engine/training.py:3079: UserWarning: You are saving your model as an HDF5 file via `model.save()`. This file format is considered legacy. We recommend using instead the native Keras format, e.g. `model.save('my_model.keras')`.\n",
            "  saving_api.save_model(\n"
          ]
        },
        {
          "output_type": "stream",
          "name": "stdout",
          "text": [
            "Epoch 26:\n",
            "IC=5.9716e-05,               ODE=1.1904e-03,               data=1.5684e-04,               total_loss=1.4070e-03\n",
            "1/1 [==============================] - 0s 36ms/step\n",
            "val_loss: 3.3043e-04, lr: 1.00e-03\n",
            "\n",
            "a: [0.47338063], b: [0.49714968]\n",
            "1/1 [==============================] - 0s 38ms/step\n",
            "RMSE: 0.00030036432759722855\n",
            "1/1 [==============================] - 0s 22ms/step\n",
            "Epoch 27:\n",
            "IC=5.1455e-05,               ODE=9.9973e-04,               data=1.3555e-04,               total_loss=1.1867e-03\n",
            "1/1 [==============================] - 0s 39ms/step\n",
            "val_loss: 1.1252e-04, lr: 1.00e-03\n",
            "\n",
            "a: [0.47673783], b: [0.49737984]\n",
            "1/1 [==============================] - 0s 38ms/step\n",
            "RMSE: 0.00010966802184043614\n",
            "1/1 [==============================] - 0s 22ms/step\n",
            "Epoch 28:\n"
          ]
        },
        {
          "output_type": "stream",
          "name": "stderr",
          "text": [
            "/usr/local/lib/python3.11/dist-packages/keras/src/engine/training.py:3079: UserWarning: You are saving your model as an HDF5 file via `model.save()`. This file format is considered legacy. We recommend using instead the native Keras format, e.g. `model.save('my_model.keras')`.\n",
            "  saving_api.save_model(\n"
          ]
        },
        {
          "output_type": "stream",
          "name": "stdout",
          "text": [
            "IC=4.3949e-05,               ODE=9.0280e-04,               data=1.2106e-04,               total_loss=1.0678e-03\n",
            "1/1 [==============================] - 0s 37ms/step\n",
            "val_loss: 1.7126e-04, lr: 1.00e-03\n",
            "\n",
            "a: [0.47992313], b: [0.49741644]\n",
            "1/1 [==============================] - 0s 37ms/step\n",
            "RMSE: 0.00015504476946749486\n",
            "1/1 [==============================] - 0s 21ms/step\n",
            "Epoch 29:\n",
            "IC=3.6589e-05,               ODE=7.6756e-04,               data=9.3115e-05,               total_loss=8.9726e-04\n",
            "1/1 [==============================] - 0s 39ms/step\n",
            "val_loss: 1.1142e-04, lr: 1.00e-03\n",
            "\n",
            "a: [0.4827762], b: [0.49761578]\n",
            "1/1 [==============================] - 0s 37ms/step\n",
            "RMSE: 0.00010809305893466942\n",
            "1/1 [==============================] - 0s 20ms/step\n",
            "Epoch 30:\n"
          ]
        },
        {
          "output_type": "stream",
          "name": "stderr",
          "text": [
            "/usr/local/lib/python3.11/dist-packages/keras/src/engine/training.py:3079: UserWarning: You are saving your model as an HDF5 file via `model.save()`. This file format is considered legacy. We recommend using instead the native Keras format, e.g. `model.save('my_model.keras')`.\n",
            "  saving_api.save_model(\n"
          ]
        },
        {
          "output_type": "stream",
          "name": "stdout",
          "text": [
            "IC=3.8047e-05,               ODE=8.7003e-04,               data=1.1706e-04,               total_loss=1.0251e-03\n",
            "1/1 [==============================] - 0s 37ms/step\n",
            "val_loss: 1.4910e-04, lr: 1.00e-03\n",
            "\n",
            "a: [0.48475835], b: [0.4977873]\n",
            "1/1 [==============================] - 0s 33ms/step\n",
            "RMSE: 0.0001316760289011572\n",
            "1/1 [==============================] - 0s 23ms/step\n",
            "Epoch 31:\n",
            "IC=3.0059e-05,               ODE=7.2598e-04,               data=8.4399e-05,               total_loss=8.4044e-04\n",
            "1/1 [==============================] - 0s 41ms/step\n",
            "val_loss: 1.1051e-04, lr: 1.00e-03\n",
            "\n",
            "a: [0.48635006], b: [0.49788362]\n",
            "1/1 [==============================] - 0s 36ms/step\n",
            "RMSE: 0.00010881209700510026\n",
            "1/1 [==============================] - 0s 20ms/step\n",
            "Epoch 32:\n"
          ]
        },
        {
          "output_type": "stream",
          "name": "stderr",
          "text": [
            "/usr/local/lib/python3.11/dist-packages/keras/src/engine/training.py:3079: UserWarning: You are saving your model as an HDF5 file via `model.save()`. This file format is considered legacy. We recommend using instead the native Keras format, e.g. `model.save('my_model.keras')`.\n",
            "  saving_api.save_model(\n"
          ]
        },
        {
          "output_type": "stream",
          "name": "stdout",
          "text": [
            "IC=2.8433e-05,               ODE=6.7847e-04,               data=7.6001e-05,               total_loss=7.8290e-04\n",
            "1/1 [==============================] - 0s 37ms/step\n",
            "val_loss: 9.5931e-05, lr: 1.00e-03\n",
            "\n",
            "a: [0.48743823], b: [0.49808875]\n",
            "1/1 [==============================] - 0s 41ms/step\n",
            "RMSE: 9.147156298104245e-05\n"
          ]
        },
        {
          "output_type": "stream",
          "name": "stderr",
          "text": [
            "/usr/local/lib/python3.11/dist-packages/keras/src/engine/training.py:3079: UserWarning: You are saving your model as an HDF5 file via `model.save()`. This file format is considered legacy. We recommend using instead the native Keras format, e.g. `model.save('my_model.keras')`.\n",
            "  saving_api.save_model(\n"
          ]
        },
        {
          "output_type": "stream",
          "name": "stdout",
          "text": [
            "1/1 [==============================] - 0s 21ms/step\n",
            "Epoch 33:\n",
            "IC=2.5814e-05,               ODE=6.7810e-04,               data=7.4528e-05,               total_loss=7.7844e-04\n",
            "1/1 [==============================] - 0s 39ms/step\n",
            "val_loss: 1.3523e-04, lr: 1.00e-03\n",
            "\n",
            "a: [0.48831543], b: [0.49829894]\n",
            "1/1 [==============================] - 0s 42ms/step\n",
            "RMSE: 0.00012175491201737964\n",
            "1/1 [==============================] - 0s 33ms/step\n",
            "Epoch 34:\n",
            "IC=2.4712e-05,               ODE=6.3137e-04,               data=6.8967e-05,               total_loss=7.2505e-04\n",
            "1/1 [==============================] - 0s 41ms/step\n",
            "val_loss: 5.4195e-05, lr: 1.00e-03\n",
            "\n",
            "a: [0.48879707], b: [0.49834692]\n",
            "1/1 [==============================] - 0s 37ms/step\n",
            "RMSE: 5.7235135820726854e-05\n",
            "1/1 [==============================] - 0s 21ms/step\n",
            "Epoch 35:\n"
          ]
        },
        {
          "output_type": "stream",
          "name": "stderr",
          "text": [
            "/usr/local/lib/python3.11/dist-packages/keras/src/engine/training.py:3079: UserWarning: You are saving your model as an HDF5 file via `model.save()`. This file format is considered legacy. We recommend using instead the native Keras format, e.g. `model.save('my_model.keras')`.\n",
            "  saving_api.save_model(\n"
          ]
        },
        {
          "output_type": "stream",
          "name": "stdout",
          "text": [
            "IC=2.4765e-05,               ODE=7.0222e-04,               data=8.5835e-05,               total_loss=8.1282e-04\n",
            "1/1 [==============================] - 0s 36ms/step\n",
            "val_loss: 7.8103e-05, lr: 1.00e-03\n",
            "\n",
            "a: [0.48925278], b: [0.49840167]\n",
            "1/1 [==============================] - 0s 34ms/step\n",
            "RMSE: 9.927638022660532e-05\n",
            "1/1 [==============================] - 0s 22ms/step\n",
            "Epoch 36:\n",
            "IC=2.2369e-05,               ODE=5.8971e-04,               data=6.2286e-05,               total_loss=6.7436e-04\n",
            "1/1 [==============================] - 0s 57ms/step\n",
            "val_loss: 8.6830e-05, lr: 1.00e-03\n",
            "\n",
            "a: [0.48972216], b: [0.49857098]\n",
            "1/1 [==============================] - 0s 55ms/step\n",
            "RMSE: 9.342791262451068e-05\n",
            "1/1 [==============================] - 0s 31ms/step\n",
            "Epoch 37:\n",
            "IC=2.2581e-05,               ODE=5.4823e-04,               data=5.8040e-05,               total_loss=6.2885e-04\n",
            "1/1 [==============================] - 0s 43ms/step\n",
            "val_loss: 7.7400e-05, lr: 1.00e-03\n",
            "\n",
            "a: [0.49021965], b: [0.49874738]\n",
            "1/1 [==============================] - 0s 38ms/step\n",
            "RMSE: 7.503290655448585e-05\n",
            "1/1 [==============================] - 0s 22ms/step\n",
            "Epoch 38:\n",
            "IC=1.8724e-05,               ODE=5.5840e-04,               data=5.8581e-05,               total_loss=6.3570e-04\n",
            "1/1 [==============================] - 0s 54ms/step\n",
            "val_loss: 5.4872e-05, lr: 1.00e-03\n",
            "\n",
            "a: [0.49067223], b: [0.49866074]\n",
            "1/1 [==============================] - 0s 39ms/step\n",
            "RMSE: 5.6025636466901555e-05\n",
            "1/1 [==============================] - 0s 21ms/step\n",
            "Epoch 39:\n",
            "IC=2.0099e-05,               ODE=5.7496e-04,               data=6.4519e-05,               total_loss=6.5957e-04\n",
            "1/1 [==============================] - 0s 36ms/step\n",
            "val_loss: 4.8042e-05, lr: 1.00e-03\n",
            "\n",
            "a: [0.4907338], b: [0.4987187]\n",
            "1/1 [==============================] - 0s 34ms/step\n",
            "RMSE: 5.0415220867646435e-05\n",
            "1/1 [==============================] - 0s 22ms/step\n",
            "Epoch 40:\n"
          ]
        },
        {
          "output_type": "stream",
          "name": "stderr",
          "text": [
            "/usr/local/lib/python3.11/dist-packages/keras/src/engine/training.py:3079: UserWarning: You are saving your model as an HDF5 file via `model.save()`. This file format is considered legacy. We recommend using instead the native Keras format, e.g. `model.save('my_model.keras')`.\n",
            "  saving_api.save_model(\n"
          ]
        },
        {
          "output_type": "stream",
          "name": "stdout",
          "text": [
            "IC=2.2895e-05,               ODE=5.5095e-04,               data=6.3053e-05,               total_loss=6.3690e-04\n",
            "1/1 [==============================] - 0s 37ms/step\n",
            "val_loss: 4.0306e-05, lr: 1.00e-03\n",
            "\n",
            "a: [0.49107894], b: [0.4986898]\n",
            "1/1 [==============================] - 0s 34ms/step\n",
            "RMSE: 4.044840167049904e-05\n",
            "1/1 [==============================] - 0s 21ms/step\n",
            "Epoch 41:\n"
          ]
        },
        {
          "output_type": "stream",
          "name": "stderr",
          "text": [
            "/usr/local/lib/python3.11/dist-packages/keras/src/engine/training.py:3079: UserWarning: You are saving your model as an HDF5 file via `model.save()`. This file format is considered legacy. We recommend using instead the native Keras format, e.g. `model.save('my_model.keras')`.\n",
            "  saving_api.save_model(\n"
          ]
        },
        {
          "output_type": "stream",
          "name": "stdout",
          "text": [
            "IC=2.1103e-05,               ODE=5.3859e-04,               data=6.1043e-05,               total_loss=6.2074e-04\n",
            "1/1 [==============================] - 0s 35ms/step\n",
            "val_loss: 3.8725e-05, lr: 1.00e-03\n",
            "\n",
            "a: [0.49114296], b: [0.4986546]\n",
            "1/1 [==============================] - 0s 45ms/step\n",
            "RMSE: 3.731196147835404e-05\n",
            "1/1 [==============================] - 0s 21ms/step\n"
          ]
        },
        {
          "output_type": "stream",
          "name": "stderr",
          "text": [
            "/usr/local/lib/python3.11/dist-packages/keras/src/engine/training.py:3079: UserWarning: You are saving your model as an HDF5 file via `model.save()`. This file format is considered legacy. We recommend using instead the native Keras format, e.g. `model.save('my_model.keras')`.\n",
            "  saving_api.save_model(\n"
          ]
        },
        {
          "output_type": "stream",
          "name": "stdout",
          "text": [
            "Epoch 42:\n",
            "IC=1.8342e-05,               ODE=5.0725e-04,               data=5.6082e-05,               total_loss=5.8167e-04\n",
            "1/1 [==============================] - 0s 35ms/step\n",
            "val_loss: 4.4511e-05, lr: 1.00e-03\n",
            "\n",
            "a: [0.49160203], b: [0.4988436]\n",
            "1/1 [==============================] - 0s 37ms/step\n",
            "RMSE: 5.1012678698293366e-05\n",
            "1/1 [==============================] - 0s 21ms/step\n",
            "Epoch 43:\n",
            "IC=2.1448e-05,               ODE=5.7818e-04,               data=7.2554e-05,               total_loss=6.7218e-04\n",
            "1/1 [==============================] - 0s 49ms/step\n",
            "val_loss: 9.3277e-05, lr: 1.00e-03\n",
            "\n",
            "a: [0.49159554], b: [0.49896744]\n",
            "1/1 [==============================] - 0s 34ms/step\n",
            "RMSE: 8.021499362371717e-05\n",
            "1/1 [==============================] - 0s 40ms/step\n",
            "Epoch 44:\n",
            "IC=1.7255e-05,               ODE=4.4630e-04,               data=4.2168e-05,               total_loss=5.0572e-04\n",
            "1/1 [==============================] - 0s 35ms/step\n",
            "val_loss: 6.4596e-05, lr: 1.00e-03\n",
            "\n",
            "a: [0.49201524], b: [0.4990031]\n",
            "1/1 [==============================] - 0s 37ms/step\n",
            "RMSE: 5.036108607451213e-05\n",
            "1/1 [==============================] - 0s 21ms/step\n",
            "Epoch 45:\n",
            "IC=2.0078e-05,               ODE=4.9371e-04,               data=5.8042e-05,               total_loss=5.7183e-04\n",
            "1/1 [==============================] - 0s 37ms/step\n",
            "val_loss: 5.5591e-05, lr: 1.00e-03\n",
            "\n",
            "a: [0.49236664], b: [0.4990035]\n",
            "1/1 [==============================] - 0s 36ms/step\n",
            "RMSE: 5.8132415314097266e-05\n",
            "1/1 [==============================] - 0s 22ms/step\n",
            "Epoch 46:\n",
            "IC=1.6337e-05,               ODE=4.9053e-04,               data=5.6435e-05,               total_loss=5.6331e-04\n",
            "1/1 [==============================] - 0s 36ms/step\n",
            "val_loss: 3.5411e-05, lr: 1.00e-03\n",
            "\n",
            "a: [0.49235368], b: [0.4988643]\n",
            "1/1 [==============================] - 0s 34ms/step\n",
            "RMSE: 2.946757975917209e-05\n",
            "1/1 [==============================] - 0s 21ms/step\n",
            "Epoch 47:\n"
          ]
        },
        {
          "output_type": "stream",
          "name": "stderr",
          "text": [
            "/usr/local/lib/python3.11/dist-packages/keras/src/engine/training.py:3079: UserWarning: You are saving your model as an HDF5 file via `model.save()`. This file format is considered legacy. We recommend using instead the native Keras format, e.g. `model.save('my_model.keras')`.\n",
            "  saving_api.save_model(\n"
          ]
        },
        {
          "output_type": "stream",
          "name": "stdout",
          "text": [
            "IC=1.7303e-05,               ODE=4.4444e-04,               data=4.2324e-05,               total_loss=5.0407e-04\n",
            "1/1 [==============================] - 0s 34ms/step\n",
            "val_loss: 4.4630e-05, lr: 1.00e-03\n",
            "\n",
            "a: [0.49253276], b: [0.49902034]\n",
            "1/1 [==============================] - 0s 34ms/step\n",
            "RMSE: 4.7740777495120776e-05\n",
            "1/1 [==============================] - 0s 22ms/step\n",
            "Epoch 48:\n",
            "IC=1.7831e-05,               ODE=4.7131e-04,               data=5.4552e-05,               total_loss=5.4370e-04\n",
            "1/1 [==============================] - 0s 37ms/step\n",
            "val_loss: 4.2984e-05, lr: 1.00e-03\n",
            "\n",
            "a: [0.49272275], b: [0.49919006]\n",
            "1/1 [==============================] - 0s 37ms/step\n",
            "RMSE: 3.78273167230148e-05\n",
            "1/1 [==============================] - 0s 21ms/step\n",
            "Epoch 49:\n",
            "IC=1.6270e-05,               ODE=4.2978e-04,               data=4.4225e-05,               total_loss=4.9028e-04\n",
            "1/1 [==============================] - 0s 35ms/step\n",
            "val_loss: 6.9393e-05, lr: 1.00e-03\n",
            "\n",
            "a: [0.49297717], b: [0.49907103]\n",
            "1/1 [==============================] - 0s 34ms/step\n",
            "RMSE: 6.844074255072967e-05\n",
            "1/1 [==============================] - 0s 21ms/step\n",
            "Epoch 50:\n",
            "IC=1.8338e-05,               ODE=4.4945e-04,               data=5.2091e-05,               total_loss=5.1988e-04\n",
            "1/1 [==============================] - 0s 37ms/step\n",
            "val_loss: 3.2636e-05, lr: 1.00e-03\n",
            "\n",
            "a: [0.49318042], b: [0.4990921]\n",
            "1/1 [==============================] - 0s 39ms/step\n",
            "RMSE: 3.247646255718692e-05\n",
            "1/1 [==============================] - 0s 24ms/step\n"
          ]
        },
        {
          "output_type": "stream",
          "name": "stderr",
          "text": [
            "/usr/local/lib/python3.11/dist-packages/keras/src/engine/training.py:3079: UserWarning: You are saving your model as an HDF5 file via `model.save()`. This file format is considered legacy. We recommend using instead the native Keras format, e.g. `model.save('my_model.keras')`.\n",
            "  saving_api.save_model(\n"
          ]
        },
        {
          "output_type": "stream",
          "name": "stdout",
          "text": [
            "Epoch 51:\n",
            "IC=1.6010e-05,               ODE=4.3797e-04,               data=4.6568e-05,               total_loss=5.0055e-04\n",
            "1/1 [==============================] - 0s 39ms/step\n",
            "val_loss: 3.3103e-05, lr: 1.00e-03\n",
            "\n",
            "a: [0.4932085], b: [0.49925297]\n",
            "1/1 [==============================] - 0s 39ms/step\n",
            "RMSE: 2.7357695734863004e-05\n",
            "1/1 [==============================] - 0s 23ms/step\n",
            "Epoch 52:\n",
            "IC=1.7049e-05,               ODE=4.3167e-04,               data=4.9079e-05,               total_loss=4.9780e-04\n",
            "1/1 [==============================] - 0s 35ms/step\n",
            "val_loss: 2.6289e-05, lr: 1.00e-03\n",
            "\n",
            "a: [0.49325392], b: [0.49901006]\n",
            "1/1 [==============================] - 0s 35ms/step\n",
            "RMSE: 2.214977887826726e-05\n",
            "1/1 [==============================] - 0s 20ms/step\n",
            "Epoch 53:\n"
          ]
        },
        {
          "output_type": "stream",
          "name": "stderr",
          "text": [
            "/usr/local/lib/python3.11/dist-packages/keras/src/engine/training.py:3079: UserWarning: You are saving your model as an HDF5 file via `model.save()`. This file format is considered legacy. We recommend using instead the native Keras format, e.g. `model.save('my_model.keras')`.\n",
            "  saving_api.save_model(\n"
          ]
        },
        {
          "output_type": "stream",
          "name": "stdout",
          "text": [
            "IC=1.5845e-05,               ODE=4.2274e-04,               data=4.5284e-05,               total_loss=4.8387e-04\n",
            "1/1 [==============================] - 0s 37ms/step\n",
            "val_loss: 6.1616e-04, lr: 1.00e-03\n",
            "\n",
            "a: [0.49344915], b: [0.4991258]\n",
            "1/1 [==============================] - 0s 37ms/step\n",
            "RMSE: 0.0005542218956339402\n",
            "1/1 [==============================] - 0s 22ms/step\n",
            "Epoch 54:\n",
            "IC=2.4901e-05,               ODE=5.1245e-04,               data=6.5646e-05,               total_loss=6.0300e-04\n",
            "1/1 [==============================] - 0s 35ms/step\n",
            "val_loss: 3.1883e-05, lr: 1.00e-03\n",
            "\n",
            "a: [0.49316922], b: [0.4990033]\n",
            "1/1 [==============================] - 0s 37ms/step\n",
            "RMSE: 3.4052944746008765e-05\n",
            "1/1 [==============================] - 0s 23ms/step\n",
            "Epoch 55:\n",
            "IC=1.4972e-05,               ODE=4.0108e-04,               data=4.1249e-05,               total_loss=4.5730e-04\n",
            "1/1 [==============================] - 0s 41ms/step\n",
            "val_loss: 4.5217e-05, lr: 1.00e-03\n",
            "\n",
            "a: [0.49359813], b: [0.49917653]\n",
            "1/1 [==============================] - 0s 41ms/step\n",
            "RMSE: 4.766534370758192e-05\n",
            "1/1 [==============================] - 0s 21ms/step\n",
            "Epoch 56:\n",
            "IC=1.4467e-05,               ODE=4.0730e-04,               data=4.3665e-05,               total_loss=4.6543e-04\n",
            "1/1 [==============================] - 0s 71ms/step\n",
            "val_loss: 2.2625e-05, lr: 1.00e-03\n",
            "\n",
            "a: [0.49384376], b: [0.49925283]\n"
          ]
        },
        {
          "output_type": "stream",
          "name": "stderr",
          "text": [
            "/usr/local/lib/python3.11/dist-packages/keras/src/engine/training.py:3079: UserWarning: You are saving your model as an HDF5 file via `model.save()`. This file format is considered legacy. We recommend using instead the native Keras format, e.g. `model.save('my_model.keras')`.\n",
            "  saving_api.save_model(\n"
          ]
        },
        {
          "output_type": "stream",
          "name": "stdout",
          "text": [
            "1/1 [==============================] - 0s 77ms/step\n",
            "RMSE: 2.8502834660138103e-05\n",
            "1/1 [==============================] - 0s 56ms/step\n",
            "Epoch 57:\n",
            "IC=1.2754e-05,               ODE=3.9623e-04,               data=4.1742e-05,               total_loss=4.5072e-04\n",
            "1/1 [==============================] - 0s 37ms/step\n",
            "val_loss: 2.8022e-05, lr: 1.00e-03\n",
            "\n",
            "a: [0.49374256], b: [0.4991548]\n",
            "1/1 [==============================] - 0s 34ms/step\n",
            "RMSE: 3.156420471519527e-05\n",
            "1/1 [==============================] - 0s 21ms/step\n",
            "Epoch 58:\n",
            "IC=1.8099e-05,               ODE=4.3479e-04,               data=5.1868e-05,               total_loss=5.0475e-04\n",
            "1/1 [==============================] - 0s 34ms/step\n",
            "val_loss: 3.4790e-05, lr: 1.00e-03\n",
            "\n",
            "a: [0.493571], b: [0.49941084]\n",
            "1/1 [==============================] - 0s 35ms/step\n",
            "RMSE: 3.395066216982015e-05\n",
            "1/1 [==============================] - 0s 24ms/step\n",
            "Epoch 59:\n",
            "IC=1.5957e-05,               ODE=4.2404e-04,               data=4.9355e-05,               total_loss=4.8936e-04\n",
            "1/1 [==============================] - 0s 39ms/step\n",
            "val_loss: 3.7158e-05, lr: 1.00e-03\n",
            "\n",
            "a: [0.49367335], b: [0.4992863]\n",
            "1/1 [==============================] - 0s 35ms/step\n",
            "RMSE: 3.8139494215261585e-05\n",
            "1/1 [==============================] - 0s 28ms/step\n",
            "Epoch 60:\n",
            "IC=6.8100e-06,               ODE=2.8764e-04,               data=1.6414e-05,               total_loss=3.1087e-04\n",
            "1/1 [==============================] - 0s 35ms/step\n",
            "val_loss: 1.3626e-05, lr: 5.00e-04\n",
            "\n",
            "a: [0.49414945], b: [0.49931207]\n",
            "1/1 [==============================] - 0s 35ms/step\n",
            "RMSE: 1.3025976429177349e-05\n",
            "1/1 [==============================] - 0s 21ms/step\n",
            "Epoch 61:\n"
          ]
        },
        {
          "output_type": "stream",
          "name": "stderr",
          "text": [
            "/usr/local/lib/python3.11/dist-packages/keras/src/engine/training.py:3079: UserWarning: You are saving your model as an HDF5 file via `model.save()`. This file format is considered legacy. We recommend using instead the native Keras format, e.g. `model.save('my_model.keras')`.\n",
            "  saving_api.save_model(\n"
          ]
        },
        {
          "output_type": "stream",
          "name": "stdout",
          "text": [
            "IC=5.7889e-06,               ODE=2.7721e-04,               data=1.4160e-05,               total_loss=2.9716e-04\n",
            "1/1 [==============================] - 0s 43ms/step\n",
            "val_loss: 1.9611e-05, lr: 5.00e-04\n",
            "\n",
            "a: [0.49471733], b: [0.49941832]\n",
            "1/1 [==============================] - 0s 34ms/step\n",
            "RMSE: 1.930806659667297e-05\n",
            "1/1 [==============================] - 0s 20ms/step\n",
            "Epoch 62:\n",
            "IC=5.7274e-06,               ODE=2.7266e-04,               data=1.3550e-05,               total_loss=2.9193e-04\n",
            "1/1 [==============================] - 0s 38ms/step\n",
            "val_loss: 1.7914e-05, lr: 5.00e-04\n",
            "\n",
            "a: [0.4949966], b: [0.4993741]\n",
            "1/1 [==============================] - 0s 37ms/step\n",
            "RMSE: 1.6748076508565694e-05\n",
            "1/1 [==============================] - 0s 22ms/step\n",
            "Epoch 63:\n",
            "IC=5.0397e-06,               ODE=2.7072e-04,               data=1.2906e-05,               total_loss=2.8866e-04\n",
            "1/1 [==============================] - 0s 35ms/step\n",
            "val_loss: 2.3579e-05, lr: 5.00e-04\n",
            "\n",
            "a: [0.49510446], b: [0.4995073]\n",
            "1/1 [==============================] - 0s 35ms/step\n",
            "RMSE: 2.0114459877247246e-05\n",
            "1/1 [==============================] - 0s 23ms/step\n",
            "Epoch 64:\n",
            "IC=5.2820e-06,               ODE=2.6618e-04,               data=1.2480e-05,               total_loss=2.8394e-04\n",
            "1/1 [==============================] - 0s 36ms/step\n",
            "val_loss: 1.3712e-05, lr: 5.00e-04\n",
            "\n",
            "a: [0.49523506], b: [0.49943563]\n",
            "1/1 [==============================] - 0s 35ms/step\n",
            "RMSE: 1.2490493080535961e-05\n",
            "1/1 [==============================] - 0s 22ms/step\n",
            "Epoch 65:\n",
            "IC=5.4114e-06,               ODE=2.6964e-04,               data=1.4147e-05,               total_loss=2.8920e-04\n",
            "1/1 [==============================] - 0s 34ms/step\n",
            "val_loss: 1.2305e-05, lr: 5.00e-04\n",
            "\n",
            "a: [0.49525043], b: [0.49948275]\n",
            "1/1 [==============================] - 0s 37ms/step\n",
            "RMSE: 1.1926878323393536e-05\n",
            "1/1 [==============================] - 0s 21ms/step\n",
            "Epoch 66:\n"
          ]
        },
        {
          "output_type": "stream",
          "name": "stderr",
          "text": [
            "/usr/local/lib/python3.11/dist-packages/keras/src/engine/training.py:3079: UserWarning: You are saving your model as an HDF5 file via `model.save()`. This file format is considered legacy. We recommend using instead the native Keras format, e.g. `model.save('my_model.keras')`.\n",
            "  saving_api.save_model(\n"
          ]
        },
        {
          "output_type": "stream",
          "name": "stdout",
          "text": [
            "IC=5.7447e-06,               ODE=2.6799e-04,               data=1.3749e-05,               total_loss=2.8748e-04\n",
            "1/1 [==============================] - 0s 46ms/step\n",
            "val_loss: 1.6438e-05, lr: 5.00e-04\n",
            "\n",
            "a: [0.49532452], b: [0.49968398]\n",
            "1/1 [==============================] - 0s 36ms/step\n",
            "RMSE: 1.4076737929929642e-05\n",
            "1/1 [==============================] - 0s 20ms/step\n",
            "Epoch 67:\n",
            "IC=5.1353e-06,               ODE=2.6379e-04,               data=1.3356e-05,               total_loss=2.8228e-04\n",
            "1/1 [==============================] - 0s 39ms/step\n",
            "val_loss: 1.8558e-05, lr: 5.00e-04\n",
            "\n",
            "a: [0.49529248], b: [0.4995822]\n",
            "1/1 [==============================] - 0s 37ms/step\n",
            "RMSE: 1.8410064573019795e-05\n",
            "1/1 [==============================] - 0s 23ms/step\n",
            "Epoch 68:\n",
            "IC=4.9997e-06,               ODE=2.7066e-04,               data=1.5841e-05,               total_loss=2.9150e-04\n",
            "1/1 [==============================] - 0s 42ms/step\n",
            "val_loss: 1.9156e-05, lr: 5.00e-04\n",
            "\n",
            "a: [0.49535757], b: [0.4995683]\n",
            "1/1 [==============================] - 0s 37ms/step\n",
            "RMSE: 1.9114245695661638e-05\n",
            "1/1 [==============================] - 0s 21ms/step\n",
            "Epoch 69:\n",
            "IC=5.2911e-06,               ODE=2.8676e-04,               data=2.1617e-05,               total_loss=3.1367e-04\n",
            "1/1 [==============================] - 0s 36ms/step\n",
            "val_loss: 1.3159e-05, lr: 5.00e-04\n",
            "\n",
            "a: [0.4951888], b: [0.49946454]\n",
            "1/1 [==============================] - 0s 35ms/step\n",
            "RMSE: 1.4283866230351715e-05\n",
            "1/1 [==============================] - 0s 22ms/step\n",
            "Epoch 70:\n",
            "IC=5.8576e-06,               ODE=2.6695e-04,               data=1.5826e-05,               total_loss=2.8863e-04\n",
            "1/1 [==============================] - 0s 36ms/step\n",
            "val_loss: 2.3028e-05, lr: 5.00e-04\n",
            "\n",
            "a: [0.4953298], b: [0.49957585]\n",
            "1/1 [==============================] - 0s 37ms/step\n",
            "RMSE: 2.3384546358682836e-05\n",
            "1/1 [==============================] - 0s 21ms/step\n",
            "Epoch 71:\n",
            "IC=5.4194e-06,               ODE=3.0514e-04,               data=2.6670e-05,               total_loss=3.3723e-04\n",
            "1/1 [==============================] - 0s 34ms/step\n",
            "val_loss: 4.5513e-05, lr: 5.00e-04\n",
            "\n",
            "a: [0.495197], b: [0.49945712]\n",
            "1/1 [==============================] - 0s 35ms/step\n",
            "RMSE: 3.7748063890345365e-05\n",
            "1/1 [==============================] - 0s 23ms/step\n",
            "Epoch 72:\n",
            "IC=5.4847e-06,               ODE=2.6096e-04,               data=1.5767e-05,               total_loss=2.8221e-04\n",
            "1/1 [==============================] - 0s 37ms/step\n",
            "val_loss: 4.8504e-05, lr: 5.00e-04\n",
            "\n",
            "a: [0.4954295], b: [0.49964264]\n",
            "1/1 [==============================] - 0s 44ms/step\n",
            "RMSE: 4.4364223535820595e-05\n",
            "1/1 [==============================] - 0s 23ms/step\n",
            "Epoch 73:\n",
            "IC=6.1789e-06,               ODE=2.9493e-04,               data=2.3585e-05,               total_loss=3.2469e-04\n",
            "1/1 [==============================] - 0s 37ms/step\n",
            "val_loss: 4.2358e-05, lr: 5.00e-04\n",
            "\n",
            "a: [0.49540335], b: [0.49951977]\n",
            "1/1 [==============================] - 0s 46ms/step\n",
            "RMSE: 4.2014181024396354e-05\n",
            "1/1 [==============================] - 0s 22ms/step\n",
            "Epoch 74:\n",
            "IC=5.6345e-06,               ODE=2.8960e-04,               data=2.1706e-05,               total_loss=3.1694e-04\n",
            "1/1 [==============================] - 0s 36ms/step\n",
            "val_loss: 1.4165e-05, lr: 5.00e-04\n",
            "\n",
            "a: [0.49537343], b: [0.49942908]\n",
            "1/1 [==============================] - 0s 34ms/step\n",
            "RMSE: 1.2962274485184094e-05\n",
            "1/1 [==============================] - 0s 22ms/step\n",
            "Epoch 75:\n",
            "IC=5.4655e-06,               ODE=2.8773e-04,               data=2.0934e-05,               total_loss=3.1413e-04\n",
            "1/1 [==============================] - 0s 37ms/step\n",
            "val_loss: 9.8657e-05, lr: 5.00e-04\n",
            "\n",
            "a: [0.49537453], b: [0.49939558]\n",
            "1/1 [==============================] - 0s 36ms/step\n",
            "RMSE: 8.9618460274683e-05\n",
            "1/1 [==============================] - 0s 23ms/step\n",
            "Epoch 76:\n",
            "IC=8.8411e-06,               ODE=2.8986e-04,               data=2.3077e-05,               total_loss=3.2178e-04\n",
            "1/1 [==============================] - 0s 36ms/step\n",
            "val_loss: 2.5314e-05, lr: 5.00e-04\n",
            "\n",
            "a: [0.49516016], b: [0.49942183]\n",
            "1/1 [==============================] - 0s 47ms/step\n",
            "RMSE: 2.370205847066435e-05\n",
            "1/1 [==============================] - 0s 21ms/step\n",
            "Epoch 77:\n",
            "IC=8.3926e-06,               ODE=3.0457e-04,               data=2.7502e-05,               total_loss=3.4047e-04\n",
            "1/1 [==============================] - 0s 35ms/step\n",
            "val_loss: 1.1868e-05, lr: 5.00e-04\n",
            "\n",
            "a: [0.49513188], b: [0.49964717]\n",
            "1/1 [==============================] - 0s 34ms/step\n",
            "RMSE: 1.2927870772870132e-05\n",
            "1/1 [==============================] - 0s 21ms/step\n",
            "Epoch 78:\n"
          ]
        },
        {
          "output_type": "stream",
          "name": "stderr",
          "text": [
            "/usr/local/lib/python3.11/dist-packages/keras/src/engine/training.py:3079: UserWarning: You are saving your model as an HDF5 file via `model.save()`. This file format is considered legacy. We recommend using instead the native Keras format, e.g. `model.save('my_model.keras')`.\n",
            "  saving_api.save_model(\n"
          ]
        },
        {
          "output_type": "stream",
          "name": "stdout",
          "text": [
            "IC=8.8370e-06,               ODE=2.7509e-04,               data=2.1496e-05,               total_loss=3.0542e-04\n",
            "1/1 [==============================] - 0s 43ms/step\n",
            "val_loss: 1.6463e-05, lr: 5.00e-04\n",
            "\n",
            "a: [0.49533466], b: [0.49939308]\n",
            "1/1 [==============================] - 0s 35ms/step\n",
            "RMSE: 1.595258392755936e-05\n",
            "1/1 [==============================] - 0s 22ms/step\n",
            "Epoch 79:\n",
            "IC=7.2603e-06,               ODE=2.7465e-04,               data=2.0755e-05,               total_loss=3.0267e-04\n",
            "1/1 [==============================] - 0s 38ms/step\n",
            "val_loss: 2.2653e-05, lr: 5.00e-04\n",
            "\n",
            "a: [0.4955415], b: [0.49959403]\n",
            "1/1 [==============================] - 0s 34ms/step\n",
            "RMSE: 2.2537963819145725e-05\n",
            "1/1 [==============================] - 0s 21ms/step\n",
            "Epoch 80:\n",
            "IC=6.6345e-06,               ODE=2.6963e-04,               data=1.8955e-05,               total_loss=2.9522e-04\n",
            "1/1 [==============================] - 0s 40ms/step\n",
            "val_loss: 1.2596e-05, lr: 5.00e-04\n",
            "\n",
            "a: [0.49554563], b: [0.49954242]\n",
            "1/1 [==============================] - 0s 35ms/step\n",
            "RMSE: 1.4129930248893285e-05\n",
            "1/1 [==============================] - 0s 21ms/step\n",
            "Epoch 81:\n",
            "IC=6.2099e-06,               ODE=2.8072e-04,               data=2.1854e-05,               total_loss=3.0878e-04\n",
            "1/1 [==============================] - 0s 36ms/step\n",
            "val_loss: 1.5130e-05, lr: 5.00e-04\n",
            "\n",
            "a: [0.49560997], b: [0.499745]\n",
            "1/1 [==============================] - 0s 38ms/step\n",
            "RMSE: 1.709438320265725e-05\n",
            "1/1 [==============================] - 0s 22ms/step\n",
            "Epoch 82:\n",
            "IC=5.0287e-06,               ODE=2.7588e-04,               data=2.2957e-05,               total_loss=3.0387e-04\n",
            "1/1 [==============================] - 0s 52ms/step\n",
            "val_loss: 2.2765e-05, lr: 5.00e-04\n",
            "\n",
            "a: [0.49557686], b: [0.4995016]\n",
            "1/1 [==============================] - 0s 56ms/step\n",
            "RMSE: 2.2647208930241037e-05\n",
            "1/1 [==============================] - 0s 33ms/step\n",
            "Epoch 83:\n",
            "IC=7.7210e-06,               ODE=2.7590e-04,               data=2.2136e-05,               total_loss=3.0576e-04\n",
            "1/1 [==============================] - 0s 35ms/step\n",
            "val_loss: 1.4576e-05, lr: 5.00e-04\n",
            "\n",
            "a: [0.4954589], b: [0.49944353]\n",
            "1/1 [==============================] - 0s 33ms/step\n",
            "RMSE: 1.5152615064682118e-05\n",
            "1/1 [==============================] - 0s 25ms/step\n",
            "Epoch 84:\n",
            "IC=5.8085e-06,               ODE=2.6559e-04,               data=2.0857e-05,               total_loss=2.9226e-04\n",
            "1/1 [==============================] - 0s 51ms/step\n",
            "val_loss: 1.3503e-05, lr: 5.00e-04\n",
            "\n",
            "a: [0.49560046], b: [0.49960402]\n",
            "1/1 [==============================] - 0s 37ms/step\n",
            "RMSE: 1.8489284505238276e-05\n",
            "1/1 [==============================] - 0s 21ms/step\n",
            "Epoch 85:\n",
            "IC=5.9926e-06,               ODE=2.9890e-04,               data=2.8049e-05,               total_loss=3.3294e-04\n",
            "1/1 [==============================] - 0s 150ms/step\n",
            "val_loss: 3.6760e-05, lr: 5.00e-04\n",
            "\n",
            "a: [0.49556234], b: [0.49940374]\n",
            "1/1 [==============================] - 0s 128ms/step\n",
            "RMSE: 3.294270964787719e-05\n",
            "1/1 [==============================] - 0s 95ms/step\n",
            "Epoch 86:\n",
            "IC=8.5380e-06,               ODE=2.7962e-04,               data=2.6828e-05,               total_loss=3.1498e-04\n",
            "1/1 [==============================] - 0s 37ms/step\n",
            "val_loss: 2.1595e-05, lr: 5.00e-04\n",
            "\n",
            "a: [0.49549258], b: [0.4996794]\n",
            "1/1 [==============================] - 0s 34ms/step\n",
            "RMSE: 2.7094366135990587e-05\n",
            "1/1 [==============================] - 0s 21ms/step\n",
            "Epoch 87:\n",
            "IC=8.6676e-06,               ODE=2.5364e-04,               data=2.2022e-05,               total_loss=2.8433e-04\n",
            "1/1 [==============================] - 0s 38ms/step\n",
            "val_loss: 1.9795e-05, lr: 5.00e-04\n",
            "\n",
            "a: [0.49565202], b: [0.49973106]\n",
            "1/1 [==============================] - 0s 38ms/step\n",
            "RMSE: 1.8520955280591385e-05\n",
            "1/1 [==============================] - 0s 21ms/step\n",
            "Epoch 88:\n",
            "IC=6.0000e-06,               ODE=2.3839e-04,               data=2.0495e-05,               total_loss=2.6488e-04\n",
            "1/1 [==============================] - 0s 36ms/step\n",
            "val_loss: 4.2502e-05, lr: 5.00e-04\n",
            "\n",
            "a: [0.49596694], b: [0.49956322]\n",
            "1/1 [==============================] - 0s 38ms/step\n",
            "RMSE: 4.399381820458583e-05\n",
            "1/1 [==============================] - 0s 22ms/step\n",
            "Epoch 89:\n",
            "IC=8.6868e-06,               ODE=2.4948e-04,               data=2.2634e-05,               total_loss=2.8080e-04\n",
            "1/1 [==============================] - 0s 40ms/step\n",
            "val_loss: 2.1548e-05, lr: 5.00e-04\n",
            "\n",
            "a: [0.49609903], b: [0.49963653]\n",
            "1/1 [==============================] - 0s 41ms/step\n",
            "RMSE: 1.9550460593731288e-05\n",
            "1/1 [==============================] - 0s 21ms/step\n",
            "Epoch 90:\n",
            "IC=2.6686e-06,               ODE=1.7869e-04,               data=8.5166e-06,               total_loss=1.8987e-04\n",
            "1/1 [==============================] - 0s 40ms/step\n",
            "val_loss: 7.8008e-06, lr: 2.50e-04\n",
            "\n",
            "a: [0.496235], b: [0.49974063]\n",
            "1/1 [==============================] - 0s 37ms/step\n",
            "RMSE: 9.784686356653844e-06\n",
            "1/1 [==============================] - 0s 22ms/step\n"
          ]
        },
        {
          "output_type": "stream",
          "name": "stderr",
          "text": [
            "/usr/local/lib/python3.11/dist-packages/keras/src/engine/training.py:3079: UserWarning: You are saving your model as an HDF5 file via `model.save()`. This file format is considered legacy. We recommend using instead the native Keras format, e.g. `model.save('my_model.keras')`.\n",
            "  saving_api.save_model(\n"
          ]
        },
        {
          "output_type": "stream",
          "name": "stdout",
          "text": [
            "Epoch 91:\n",
            "IC=2.3068e-06,               ODE=1.6794e-04,               data=7.0388e-06,               total_loss=1.7729e-04\n",
            "1/1 [==============================] - 0s 38ms/step\n",
            "val_loss: 8.0274e-06, lr: 2.50e-04\n",
            "\n",
            "a: [0.4964593], b: [0.49974662]\n",
            "1/1 [==============================] - 0s 34ms/step\n",
            "RMSE: 8.51744603016634e-06\n",
            "1/1 [==============================] - 0s 27ms/step\n",
            "Epoch 92:\n",
            "IC=2.3256e-06,               ODE=1.6326e-04,               data=6.9730e-06,               total_loss=1.7256e-04\n",
            "1/1 [==============================] - 0s 37ms/step\n",
            "val_loss: 7.3533e-06, lr: 2.50e-04\n",
            "\n",
            "a: [0.49657533], b: [0.4998123]\n",
            "1/1 [==============================] - 0s 34ms/step\n",
            "RMSE: 8.3769479426687e-06\n",
            "1/1 [==============================] - 0s 22ms/step\n",
            "Epoch 93:\n"
          ]
        },
        {
          "output_type": "stream",
          "name": "stderr",
          "text": [
            "/usr/local/lib/python3.11/dist-packages/keras/src/engine/training.py:3079: UserWarning: You are saving your model as an HDF5 file via `model.save()`. This file format is considered legacy. We recommend using instead the native Keras format, e.g. `model.save('my_model.keras')`.\n",
            "  saving_api.save_model(\n"
          ]
        },
        {
          "output_type": "stream",
          "name": "stdout",
          "text": [
            "IC=2.5450e-06,               ODE=1.6070e-04,               data=7.3199e-06,               total_loss=1.7056e-04\n",
            "1/1 [==============================] - 0s 39ms/step\n",
            "val_loss: 1.1023e-05, lr: 2.50e-04\n",
            "\n",
            "a: [0.49670643], b: [0.4997389]\n",
            "1/1 [==============================] - 0s 53ms/step\n",
            "RMSE: 1.2771271060938547e-05\n",
            "1/1 [==============================] - 0s 22ms/step\n",
            "Epoch 94:\n",
            "IC=2.3828e-06,               ODE=1.5340e-04,               data=7.2695e-06,               total_loss=1.6305e-04\n",
            "1/1 [==============================] - 0s 35ms/step\n",
            "val_loss: 7.8315e-06, lr: 2.50e-04\n",
            "\n",
            "a: [0.4967948], b: [0.49975395]\n",
            "1/1 [==============================] - 0s 35ms/step\n",
            "RMSE: 9.792536849343028e-06\n",
            "1/1 [==============================] - 0s 23ms/step\n",
            "Epoch 95:\n",
            "IC=2.7150e-06,               ODE=1.4880e-04,               data=7.4260e-06,               total_loss=1.5894e-04\n",
            "1/1 [==============================] - 0s 37ms/step\n",
            "val_loss: 1.0053e-05, lr: 2.50e-04\n",
            "\n",
            "a: [0.4968712], b: [0.4997987]\n",
            "1/1 [==============================] - 0s 41ms/step\n",
            "RMSE: 1.2579641385021756e-05\n",
            "1/1 [==============================] - 0s 22ms/step\n",
            "Epoch 96:\n",
            "IC=2.2830e-06,               ODE=1.4001e-04,               data=6.8222e-06,               total_loss=1.4912e-04\n",
            "1/1 [==============================] - 0s 36ms/step\n",
            "val_loss: 1.0971e-05, lr: 2.50e-04\n",
            "\n",
            "a: [0.49695173], b: [0.49979404]\n",
            "1/1 [==============================] - 0s 68ms/step\n",
            "RMSE: 1.3462067904069289e-05\n",
            "1/1 [==============================] - 0s 32ms/step\n",
            "Epoch 97:\n",
            "IC=2.8227e-06,               ODE=1.3776e-04,               data=7.7055e-06,               total_loss=1.4829e-04\n",
            "1/1 [==============================] - 0s 35ms/step\n",
            "val_loss: 9.4174e-06, lr: 2.50e-04\n",
            "\n",
            "a: [0.4971064], b: [0.49983764]\n",
            "1/1 [==============================] - 0s 36ms/step\n",
            "RMSE: 1.0309674835579501e-05\n",
            "1/1 [==============================] - 0s 23ms/step\n",
            "Epoch 98:\n",
            "IC=2.4346e-06,               ODE=1.3019e-04,               data=7.9410e-06,               total_loss=1.4057e-04\n",
            "1/1 [==============================] - 0s 38ms/step\n",
            "val_loss: 6.9500e-06, lr: 2.50e-04\n",
            "\n",
            "a: [0.49717942], b: [0.49977943]\n",
            "1/1 [==============================] - 0s 46ms/step\n",
            "RMSE: 8.119622630507083e-06\n",
            "1/1 [==============================] - 0s 20ms/step\n",
            "Epoch 99:\n"
          ]
        },
        {
          "output_type": "stream",
          "name": "stderr",
          "text": [
            "/usr/local/lib/python3.11/dist-packages/keras/src/engine/training.py:3079: UserWarning: You are saving your model as an HDF5 file via `model.save()`. This file format is considered legacy. We recommend using instead the native Keras format, e.g. `model.save('my_model.keras')`.\n",
            "  saving_api.save_model(\n"
          ]
        },
        {
          "output_type": "stream",
          "name": "stdout",
          "text": [
            "IC=2.4737e-06,               ODE=1.2262e-04,               data=7.8522e-06,               total_loss=1.3294e-04\n",
            "1/1 [==============================] - 0s 36ms/step\n",
            "val_loss: 1.1637e-05, lr: 2.50e-04\n",
            "\n",
            "a: [0.49733543], b: [0.49982452]\n",
            "1/1 [==============================] - 0s 33ms/step\n",
            "RMSE: 1.3060511799432231e-05\n",
            "1/1 [==============================] - 0s 24ms/step\n",
            "Epoch 100:\n",
            "IC=2.7805e-06,               ODE=1.2583e-04,               data=1.0751e-05,               total_loss=1.3937e-04\n",
            "1/1 [==============================] - 0s 34ms/step\n",
            "val_loss: 2.3137e-05, lr: 2.50e-04\n",
            "\n",
            "a: [0.4974819], b: [0.4997529]\n",
            "1/1 [==============================] - 0s 34ms/step\n",
            "RMSE: 2.204257494790132e-05\n",
            "1/1 [==============================] - 0s 21ms/step\n"
          ]
        }
      ],
      "source": [
        "# Set up training configurations\n",
        "n_epochs = 100\n",
        "IC_weight= tf.constant(1.0, dtype=tf.float32)\n",
        "ODE_weight= tf.constant(1.0, dtype=tf.float32)\n",
        "data_weight= tf.constant(1.0, dtype=tf.float32)\n",
        "loss_tracker = LossTracking()\n",
        "val_loss_hist = []\n",
        "a_list, b_list = [], []\n",
        "\n",
        "# Initial value for unknown parameters\n",
        "a, b = 0.2, 0.8\n",
        "\n",
        "# One test sample prediction\n",
        "pred_profiles = []\n",
        "\n",
        "# Set up optimizer\n",
        "optimizer = keras.optimizers.Adam(learning_rate=1e-3)\n",
        "\n",
        "with tf.device(\"CPU:0\"):\n",
        "\n",
        "    # Instantiate the PINN model\n",
        "    PI_DeepONet = create_model(mean, var, a_init=a, b_init=b, trainable=True)\n",
        "    PI_DeepONet.compile(optimizer=optimizer)\n",
        "\n",
        "    # Configure callbacks\n",
        "    _callbacks = [keras.callbacks.ReduceLROnPlateau(factor=0.5, patience=30),\n",
        "                 tf.keras.callbacks.ModelCheckpoint('NN_model.h5', monitor='val_loss', save_best_only=True),\n",
        "                 PrintParameters()]\n",
        "    callbacks = tf.keras.callbacks.CallbackList(\n",
        "                    _callbacks, add_history=False, model=PI_DeepONet)\n",
        "\n",
        "    # Start training process\n",
        "    for epoch in range(1, n_epochs + 1):\n",
        "        print(f\"Epoch {epoch}:\")\n",
        "\n",
        "        for (X_init, _), (X, y) in zip(ini_ds, train_ds):\n",
        "\n",
        "            # Calculate gradients\n",
        "            ODE_loss, IC_loss, data_loss, total_loss, gradients = train_step(X, y, X_init,\n",
        "                                                                            IC_weight, ODE_weight,\n",
        "                                                                            data_weight, PI_DeepONet)\n",
        "            # Gradient descent\n",
        "            PI_DeepONet.optimizer.apply_gradients(zip(gradients, PI_DeepONet.trainable_variables))\n",
        "\n",
        "\n",
        "            # Loss tracking\n",
        "            loss_tracker.update(total_loss, IC_loss, ODE_loss, data_loss)\n",
        "\n",
        "        # Loss summary\n",
        "        loss_tracker.history()\n",
        "        loss_tracker.print()\n",
        "        loss_tracker.reset()\n",
        "\n",
        "        # Parameter recording\n",
        "        a_list.append(PI_DeepONet.layers[-1].a.numpy())\n",
        "        b_list.append(PI_DeepONet.layers[-1].b.numpy())\n",
        "\n",
        "        ####### Validation\n",
        "        pred_valid = PI_DeepONet.predict({\"forcing\": X_val[:, 1:-1], \"time\": X_val[:, :1]}, batch_size=12800)\n",
        "        val_loss = tf.reduce_mean(keras.losses.mean_squared_error(y_val, pred_valid))\n",
        "        print(f\"val_loss: {val_loss:.4e}, lr: {PI_DeepONet.optimizer.lr.numpy():.2e}\")\n",
        "\n",
        "        # Callback at the end of epoch\n",
        "        callbacks.on_epoch_end(epoch, logs={'val_loss': val_loss})\n",
        "        val_loss_hist.append(val_loss)\n",
        "\n",
        "        # Test dataset\n",
        "        pred_test = PI_DeepONet.predict({\"forcing\": X_test[:, 1:-1], \"time\": X_test[:, :1]}, batch_size=12800)\n",
        "        print(f\"RMSE: {mean_squared_error(y_test.flatten(), pred_test.flatten())}\")\n",
        "\n",
        "        # Predict on one specific test samples\n",
        "        sample_id = 25\n",
        "        pred_profiles.append(PI_DeepONet.predict({\"forcing\": X_test[sample_id*100:(sample_id+1)*100, 1:-1],\n",
        "                                            \"time\": X_test[sample_id*100:(sample_id+1)*100, :1]}, batch_size=12800))\n",
        "\n",
        "        # Re-shuffle dataset\n",
        "        ini_ds = tf.data.Dataset.from_tensor_slices((X_train_ini, y_train_ini))\n",
        "        ini_ds = ini_ds.shuffle(5000).batch(ini_batch_size)\n",
        "\n",
        "        train_ds = tf.data.Dataset.from_tensor_slices((X_train, y_train))\n",
        "        train_ds = train_ds.shuffle(100000).batch(col_batch_size)"
      ]
    },
    {
      "cell_type": "code",
      "execution_count": 17,
      "id": "77482801",
      "metadata": {
        "colab": {
          "base_uri": "https://localhost:8080/",
          "height": 396
        },
        "id": "77482801",
        "outputId": "c105fdb8-b5ea-4da4-8543-1f620e39a11a"
      },
      "outputs": [
        {
          "output_type": "display_data",
          "data": {
            "text/plain": [
              "<Figure size 1500x400 with 3 Axes>"
            ],
            "image/png": "[encoded data removed]"
          },
          "metadata": {}
        }
      ],
      "source": [
        "# History for loss\n",
        "%matplotlib inline\n",
        "fig, ax = plt.subplots(1, 3, figsize=(15, 4))\n",
        "ax[0].plot(range(n_epochs), loss_tracker.loss_history['IC_loss'], lw=3)\n",
        "ax[1].plot(range(n_epochs), loss_tracker.loss_history['ODE_loss'], lw=3)\n",
        "ax[2].plot(range(n_epochs), loss_tracker.loss_history['Data_loss'], lw=3)\n",
        "ax[0].set_title('IC Loss', fontsize=14)\n",
        "ax[1].set_title('ODE Loss', fontsize=14)\n",
        "ax[2].set_title('Data Loss', fontsize=14)\n",
        "for axs in ax:\n",
        "    axs.set_yscale('log')\n",
        "    axs.tick_params(axis='both', which='major', labelsize=12)\n",
        "\n",
        "plt.savefig('loss.png', bbox_inches='tight', pad_inches=0, transparent=True)"
      ]
    },
    {
      "cell_type": "code",
      "execution_count": 18,
      "id": "4425351f",
      "metadata": {
        "colab": {
          "base_uri": "https://localhost:8080/",
          "height": 414
        },
        "id": "4425351f",
        "outputId": "114263aa-dd4d-46aa-d854-ab284a857db7"
      },
      "outputs": [
        {
          "output_type": "display_data",
          "data": {
            "text/plain": [
              "<Figure size 1000x400 with 2 Axes>"
            ],
            "image/png": "[encoded data removed]"
          },
          "metadata": {}
        }
      ],
      "source": [
        "# History for parameters\n",
        "%matplotlib inline\n",
        "fig, ax = plt.subplots(1, 2, figsize=(10, 4))\n",
        "ax[0].plot(range(n_epochs), a_list, lw=3)\n",
        "ax[0].set_ylabel('a', fontsize=16)\n",
        "\n",
        "ax[1].plot(range(n_epochs), b_list, lw=3)\n",
        "ax[1].set_ylabel('b', fontsize=16)\n",
        "\n",
        "for axs in ax:\n",
        "    axs.tick_params(axis='both', which='major', labelsize=14)\n",
        "    axs.set_ylim((0.15, 1.0))\n",
        "    axs.grid(True)\n",
        "    axs.axhline(y=0.5, color='r', linestyle='--')\n",
        "fig.suptitle('Parameter Evolution', fontsize=16)\n",
        "plt.tight_layout()\n",
        "plt.savefig('inverse_param_estimate.png', bbox_inches='tight', pad_inches=0, transparent=True)"
      ]
    }
  ],
  "metadata": {
    "kernelspec": {
      "display_name": "Python 3 (ipykernel)",
      "language": "python",
      "name": "python3"
    },
    "language_info": {
      "codemirror_mode": {
        "name": "ipython",
        "version": 3
      },
      "file_extension": ".py",
      "mimetype": "text/x-python",
      "name": "python",
      "nbconvert_exporter": "python",
      "pygments_lexer": "ipython3",
      "version": "3.8.12"
    },
    "colab": {
      "provenance": [],
      "include_colab_link": true
    }
  },
  "nbformat": 4,
  "nbformat_minor": 5
}